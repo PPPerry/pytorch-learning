{
 "cells": [
  {
   "cell_type": "markdown",
   "id": "5c3539a7-c63c-4e2e-8da7-0b1f74fa7274",
   "metadata": {},
   "source": [
    "# 线性代数"
   ]
  },
  {
   "cell_type": "code",
   "execution_count": 1,
   "id": "504714ab-f9f5-47a3-9bfb-232c8e4c91bb",
   "metadata": {},
   "outputs": [],
   "source": [
    "import torch"
   ]
  },
  {
   "cell_type": "code",
   "execution_count": 2,
   "id": "c447e2db-0cd7-48a0-a5b2-39b8919f08bd",
   "metadata": {},
   "outputs": [
    {
     "data": {
      "text/plain": [
       "tensor([[[ 0,  1,  2,  3],\n",
       "         [ 4,  5,  6,  7],\n",
       "         [ 8,  9, 10, 11]],\n",
       "\n",
       "        [[12, 13, 14, 15],\n",
       "         [16, 17, 18, 19],\n",
       "         [20, 21, 22, 23]]])"
      ]
     },
     "execution_count": 2,
     "metadata": {},
     "output_type": "execute_result"
    }
   ],
   "source": [
    "X = torch.arange(24).reshape(2, 3, 4)  # 两个三行四列的矩阵\n",
    "X"
   ]
  },
  {
   "cell_type": "code",
   "execution_count": 3,
   "id": "6d641e9f-2e54-4b55-acd8-69c06a2cc561",
   "metadata": {},
   "outputs": [
    {
     "data": {
      "text/plain": [
       "torch.Size([2, 3, 4])"
      ]
     },
     "execution_count": 3,
     "metadata": {},
     "output_type": "execute_result"
    }
   ],
   "source": [
    "X.shape"
   ]
  },
  {
   "cell_type": "code",
   "execution_count": 4,
   "id": "66619026-4a47-46ae-bd6e-7116a835ed2d",
   "metadata": {},
   "outputs": [
    {
     "data": {
      "text/plain": [
       "True"
      ]
     },
     "execution_count": 4,
     "metadata": {},
     "output_type": "execute_result"
    }
   ],
   "source": [
    "A = torch.arange(20, dtype=torch.float32).reshape(5, 4)\n",
    "B = A  # 如果只是赋值操作，则不分配新内存，只相当于一个索引\n",
    "id(B) == id(A)"
   ]
  },
  {
   "cell_type": "markdown",
   "id": "1a7344bd-6c71-47a0-9dcb-eb9eb4ddb5ea",
   "metadata": {},
   "source": [
    "## 1.显式复制"
   ]
  },
  {
   "cell_type": "code",
   "execution_count": 5,
   "id": "050c5da0-7358-4f5f-9e63-92319254774f",
   "metadata": {},
   "outputs": [
    {
     "data": {
      "text/plain": [
       "False"
      ]
     },
     "execution_count": 5,
     "metadata": {},
     "output_type": "execute_result"
    }
   ],
   "source": [
    "B = A.clone()  # 显式地复制\n",
    "id(B) == id(A)"
   ]
  },
  {
   "cell_type": "code",
   "execution_count": 6,
   "id": "36428988-6ff7-4912-8037-5bb915ce5973",
   "metadata": {},
   "outputs": [
    {
     "data": {
      "text/plain": [
       "(tensor([[ 0.,  1.,  2.,  3.],\n",
       "         [ 4.,  5.,  6.,  7.],\n",
       "         [ 8.,  9., 10., 11.],\n",
       "         [12., 13., 14., 15.],\n",
       "         [16., 17., 18., 19.]]),\n",
       " tensor([[ 0.,  1.,  2.,  3.],\n",
       "         [ 4.,  5.,  6.,  7.],\n",
       "         [ 8.,  9., 10., 11.],\n",
       "         [12., 13., 14., 15.],\n",
       "         [16., 17., 18., 19.]]))"
      ]
     },
     "execution_count": 6,
     "metadata": {},
     "output_type": "execute_result"
    }
   ],
   "source": [
    "A, B"
   ]
  },
  {
   "cell_type": "markdown",
   "id": "2856c21a-73e6-4eae-b6d6-783e3f3413cd",
   "metadata": {},
   "source": [
    "## 2.按元素乘"
   ]
  },
  {
   "cell_type": "code",
   "execution_count": 7,
   "id": "b38cf277-c57b-4be9-afb7-8d97d3f2e946",
   "metadata": {},
   "outputs": [
    {
     "data": {
      "text/plain": [
       "tensor([[  0.,   1.,   4.,   9.],\n",
       "        [ 16.,  25.,  36.,  49.],\n",
       "        [ 64.,  81., 100., 121.],\n",
       "        [144., 169., 196., 225.],\n",
       "        [256., 289., 324., 361.]])"
      ]
     },
     "execution_count": 7,
     "metadata": {},
     "output_type": "execute_result"
    }
   ],
   "source": [
    "A * B  # 按元素乘"
   ]
  },
  {
   "cell_type": "markdown",
   "id": "8d0663b0-393b-47d7-9fb8-b0a607ae97ef",
   "metadata": {},
   "source": [
    "## 3.指定轴求和"
   ]
  },
  {
   "cell_type": "code",
   "execution_count": 8,
   "id": "81ddf02d-3271-4d93-a684-dad3e9529c4f",
   "metadata": {},
   "outputs": [
    {
     "data": {
      "text/plain": [
       "tensor([[[ 0.,  1.,  2.,  3.],\n",
       "         [ 4.,  5.,  6.,  7.],\n",
       "         [ 8.,  9., 10., 11.],\n",
       "         [12., 13., 14., 15.],\n",
       "         [16., 17., 18., 19.]],\n",
       "\n",
       "        [[20., 21., 22., 23.],\n",
       "         [24., 25., 26., 27.],\n",
       "         [28., 29., 30., 31.],\n",
       "         [32., 33., 34., 35.],\n",
       "         [36., 37., 38., 39.]]])"
      ]
     },
     "execution_count": 8,
     "metadata": {},
     "output_type": "execute_result"
    }
   ],
   "source": [
    "A = torch.arange(40, dtype=torch.float32).reshape(2, 5, 4)\n",
    "A"
   ]
  },
  {
   "cell_type": "code",
   "execution_count": 9,
   "id": "4897c913-842a-4b3f-a5d2-b68b149c8211",
   "metadata": {},
   "outputs": [
    {
     "data": {
      "text/plain": [
       "(tensor([[20., 22., 24., 26.],\n",
       "         [28., 30., 32., 34.],\n",
       "         [36., 38., 40., 42.],\n",
       "         [44., 46., 48., 50.],\n",
       "         [52., 54., 56., 58.]]),\n",
       " torch.Size([5, 4]))"
      ]
     },
     "execution_count": 9,
     "metadata": {},
     "output_type": "execute_result"
    }
   ],
   "source": [
    "sum0 = A.sum(axis=0)\n",
    "sum0, sum0.shape"
   ]
  },
  {
   "cell_type": "code",
   "execution_count": 10,
   "id": "cd68016a-de0b-4b4e-862d-64b301ee66be",
   "metadata": {},
   "outputs": [
    {
     "data": {
      "text/plain": [
       "(tensor([[ 40.,  45.,  50.,  55.],\n",
       "         [140., 145., 150., 155.]]),\n",
       " torch.Size([2, 4]))"
      ]
     },
     "execution_count": 10,
     "metadata": {},
     "output_type": "execute_result"
    }
   ],
   "source": [
    "sum1 = A.sum(axis=1)\n",
    "sum1, sum1.shape"
   ]
  },
  {
   "cell_type": "code",
   "execution_count": 11,
   "id": "b46463a6-5158-4724-9709-2585ee1d86f1",
   "metadata": {},
   "outputs": [
    {
     "data": {
      "text/plain": [
       "torch.Size([4])"
      ]
     },
     "execution_count": 11,
     "metadata": {},
     "output_type": "execute_result"
    }
   ],
   "source": [
    "A.sum(axis=[0, 1]).shape"
   ]
  },
  {
   "cell_type": "code",
   "execution_count": 12,
   "id": "d2625673-f9a2-4258-953d-d86cc1faf288",
   "metadata": {},
   "outputs": [
    {
     "data": {
      "text/plain": [
       "torch.Size([])"
      ]
     },
     "execution_count": 12,
     "metadata": {},
     "output_type": "execute_result"
    }
   ],
   "source": [
    "A.sum().shape"
   ]
  },
  {
   "cell_type": "markdown",
   "id": "9cd37d46-bc68-4064-b18c-c7e8f5d9dd20",
   "metadata": {},
   "source": [
    "## 4.平均值"
   ]
  },
  {
   "cell_type": "code",
   "execution_count": 14,
   "id": "115783b0-1032-42ab-bd34-49245604f712",
   "metadata": {},
   "outputs": [
    {
     "data": {
      "text/plain": [
       "(tensor(19.5000), tensor(19.5000))"
      ]
     },
     "execution_count": 14,
     "metadata": {},
     "output_type": "execute_result"
    }
   ],
   "source": [
    "A.mean(), A.sum() / A.numel()"
   ]
  },
  {
   "cell_type": "code",
   "execution_count": 15,
   "id": "99d51db5-20e1-40fa-94b4-4dcbc8a19713",
   "metadata": {},
   "outputs": [
    {
     "data": {
      "text/plain": [
       "(tensor([[10., 11., 12., 13.],\n",
       "         [14., 15., 16., 17.],\n",
       "         [18., 19., 20., 21.],\n",
       "         [22., 23., 24., 25.],\n",
       "         [26., 27., 28., 29.]]),\n",
       " tensor([[10., 11., 12., 13.],\n",
       "         [14., 15., 16., 17.],\n",
       "         [18., 19., 20., 21.],\n",
       "         [22., 23., 24., 25.],\n",
       "         [26., 27., 28., 29.]]))"
      ]
     },
     "execution_count": 15,
     "metadata": {},
     "output_type": "execute_result"
    }
   ],
   "source": [
    "A.mean(axis=0), A.sum(axis=0) / A.shape[0]"
   ]
  },
  {
   "cell_type": "code",
   "execution_count": 16,
   "id": "4239aac8-7d40-4306-a114-2fac7dd85d5b",
   "metadata": {},
   "outputs": [
    {
     "data": {
      "text/plain": [
       "torch.Size([2, 1, 4])"
      ]
     },
     "execution_count": 16,
     "metadata": {},
     "output_type": "execute_result"
    }
   ],
   "source": [
    "sumA = A.sum(axis=1, keepdims=True)  # 保持维度不变\n",
    "sumA.shape"
   ]
  },
  {
   "cell_type": "markdown",
   "id": "c2db1a44-40a0-4acc-ae8d-03c48037febe",
   "metadata": {},
   "source": [
    "## 5.累加求和"
   ]
  },
  {
   "cell_type": "code",
   "execution_count": 17,
   "id": "d82bfaac-0d78-4401-ad9d-03efa68a4fa1",
   "metadata": {},
   "outputs": [
    {
     "data": {
      "text/plain": [
       "tensor([[ 0.,  1.,  2.,  3.],\n",
       "        [ 4.,  5.,  6.,  7.],\n",
       "        [ 8.,  9., 10., 11.],\n",
       "        [12., 13., 14., 15.],\n",
       "        [16., 17., 18., 19.]])"
      ]
     },
     "execution_count": 17,
     "metadata": {},
     "output_type": "execute_result"
    }
   ],
   "source": [
    "B = torch.arange(20, dtype=torch.float32).reshape(5, 4)\n",
    "B"
   ]
  },
  {
   "cell_type": "code",
   "execution_count": 18,
   "id": "468d96a7-4f5e-43a2-a7d4-44456c638d9e",
   "metadata": {},
   "outputs": [
    {
     "data": {
      "text/plain": [
       "tensor([[ 0.,  1.,  2.,  3.],\n",
       "        [ 4.,  6.,  8., 10.],\n",
       "        [12., 15., 18., 21.],\n",
       "        [24., 28., 32., 36.],\n",
       "        [40., 45., 50., 55.]])"
      ]
     },
     "execution_count": 18,
     "metadata": {},
     "output_type": "execute_result"
    }
   ],
   "source": [
    "B.cumsum(axis=0)"
   ]
  },
  {
   "cell_type": "markdown",
   "id": "1258bdac-749b-42bb-a5c2-e401f2882c8b",
   "metadata": {},
   "source": [
    "## 6.点积"
   ]
  },
  {
   "cell_type": "code",
   "execution_count": 19,
   "id": "f45771c8-9c7f-489b-92b1-68433cf195df",
   "metadata": {},
   "outputs": [
    {
     "data": {
      "text/plain": [
       "(tensor([0., 1., 2., 3.]), tensor([1., 1., 1., 1.]), tensor(6.))"
      ]
     },
     "execution_count": 19,
     "metadata": {},
     "output_type": "execute_result"
    }
   ],
   "source": [
    "x = torch.arange(4, dtype=torch.float32)\n",
    "y = torch.ones(4, dtype=torch.float32)\n",
    "x, y, torch.dot(x, y)"
   ]
  },
  {
   "cell_type": "code",
   "execution_count": 20,
   "id": "d94847b3-9261-4603-bc71-cfd2432f0caa",
   "metadata": {},
   "outputs": [
    {
     "data": {
      "text/plain": [
       "tensor(6.)"
      ]
     },
     "execution_count": 20,
     "metadata": {},
     "output_type": "execute_result"
    }
   ],
   "source": [
    "torch.sum(x * y)"
   ]
  },
  {
   "cell_type": "markdown",
   "id": "533f65a4-1eac-4277-bddd-589481397a9d",
   "metadata": {},
   "source": [
    "## 7.矩阵乘向量"
   ]
  },
  {
   "cell_type": "code",
   "execution_count": 21,
   "id": "d01d8fc2-71b4-4501-bc5a-1a6f86b5f441",
   "metadata": {},
   "outputs": [
    {
     "data": {
      "text/plain": [
       "(torch.Size([5, 4]), torch.Size([4]), tensor([ 14.,  38.,  62.,  86., 110.]))"
      ]
     },
     "execution_count": 21,
     "metadata": {},
     "output_type": "execute_result"
    }
   ],
   "source": [
    "B.shape, x.shape, torch.mv(B, x)"
   ]
  },
  {
   "cell_type": "markdown",
   "id": "c0fdcb12-4a6c-4844-830c-33a911405fc6",
   "metadata": {},
   "source": [
    "## 8.矩阵乘矩阵"
   ]
  },
  {
   "cell_type": "code",
   "execution_count": 22,
   "id": "73f93ce9-53c5-479b-9198-6c41af05819c",
   "metadata": {},
   "outputs": [
    {
     "data": {
      "text/plain": [
       "(tensor([[1., 1., 1.],\n",
       "         [1., 1., 1.],\n",
       "         [1., 1., 1.],\n",
       "         [1., 1., 1.]]),\n",
       " tensor([[ 0.,  1.,  2.,  3.],\n",
       "         [ 4.,  5.,  6.,  7.],\n",
       "         [ 8.,  9., 10., 11.],\n",
       "         [12., 13., 14., 15.],\n",
       "         [16., 17., 18., 19.]]))"
      ]
     },
     "execution_count": 22,
     "metadata": {},
     "output_type": "execute_result"
    }
   ],
   "source": [
    "A = torch.ones(4, 3)\n",
    "A, B"
   ]
  },
  {
   "cell_type": "code",
   "execution_count": 23,
   "id": "3b0edb2d-94ac-4489-a689-398b7e4a8761",
   "metadata": {},
   "outputs": [
    {
     "data": {
      "text/plain": [
       "tensor([[ 6.,  6.,  6.],\n",
       "        [22., 22., 22.],\n",
       "        [38., 38., 38.],\n",
       "        [54., 54., 54.],\n",
       "        [70., 70., 70.]])"
      ]
     },
     "execution_count": 23,
     "metadata": {},
     "output_type": "execute_result"
    }
   ],
   "source": [
    "torch.mm(B, A)"
   ]
  },
  {
   "cell_type": "markdown",
   "id": "d786ed93-d56a-43bb-adb3-f7cfbe5248c5",
   "metadata": {},
   "source": [
    "## 9.L2范数"
   ]
  },
  {
   "cell_type": "code",
   "execution_count": 24,
   "id": "871d46ce-a287-4111-9d9d-640cc4059eb8",
   "metadata": {},
   "outputs": [
    {
     "data": {
      "text/plain": [
       "tensor(5.)"
      ]
     },
     "execution_count": 24,
     "metadata": {},
     "output_type": "execute_result"
    }
   ],
   "source": [
    "u = torch.tensor([3., 4.])\n",
    "torch.norm(u)  # 元素和的平方根"
   ]
  },
  {
   "cell_type": "markdown",
   "id": "ba8d5932-dff7-4057-a47b-b13160916e56",
   "metadata": {},
   "source": [
    "## 10.L1范数"
   ]
  },
  {
   "cell_type": "code",
   "execution_count": 25,
   "id": "1e26120f-e9b9-4eb7-9f39-c242ea5aad93",
   "metadata": {},
   "outputs": [
    {
     "data": {
      "text/plain": [
       "tensor(7.)"
      ]
     },
     "execution_count": 25,
     "metadata": {},
     "output_type": "execute_result"
    }
   ],
   "source": [
    "torch.abs(u).sum()  # 绝对值求和"
   ]
  },
  {
   "cell_type": "markdown",
   "id": "d3b32281-2d7a-4f4e-8eff-bc4134f7ec17",
   "metadata": {},
   "source": [
    "## 11.F范数"
   ]
  },
  {
   "cell_type": "code",
   "execution_count": 26,
   "id": "c2050dbd-91b7-4e29-a38f-64d64e439476",
   "metadata": {},
   "outputs": [
    {
     "data": {
      "text/plain": [
       "tensor(49.6991)"
      ]
     },
     "execution_count": 26,
     "metadata": {},
     "output_type": "execute_result"
    }
   ],
   "source": [
    "torch.norm(B)  # 相当于拉成一个向量"
   ]
  },
  {
   "cell_type": "code",
   "execution_count": 41,
   "id": "a73eb882-db24-4196-91fc-a61ae96e1753",
   "metadata": {},
   "outputs": [
    {
     "data": {
      "text/plain": [
       "tensor([[[1., 1., 1.]],\n",
       "\n",
       "        [[1., 1., 1.]],\n",
       "\n",
       "        [[1., 1., 1.]]])"
      ]
     },
     "execution_count": 41,
     "metadata": {},
     "output_type": "execute_result"
    }
   ],
   "source": [
    "A = torch.ones(3, 1, 3)\n",
    "A"
   ]
  },
  {
   "cell_type": "code",
   "execution_count": 42,
   "id": "986d4cb8-15c7-41a1-bdce-5bbcf0d3f103",
   "metadata": {},
   "outputs": [
    {
     "data": {
      "text/plain": [
       "tensor(3.)"
      ]
     },
     "execution_count": 42,
     "metadata": {},
     "output_type": "execute_result"
    }
   ],
   "source": [
    "torch.norm(A)"
   ]
  },
  {
   "cell_type": "code",
   "execution_count": 47,
   "id": "44bc395d-3348-4fd4-b79f-e2b3c312ec8a",
   "metadata": {},
   "outputs": [
    {
     "data": {
      "text/plain": [
       "\u001b[0;31mSignature:\u001b[0m \u001b[0mtorch\u001b[0m\u001b[0;34m.\u001b[0m\u001b[0mnorm\u001b[0m\u001b[0;34m(\u001b[0m\u001b[0minput\u001b[0m\u001b[0;34m,\u001b[0m \u001b[0mp\u001b[0m\u001b[0;34m=\u001b[0m\u001b[0;34m'fro'\u001b[0m\u001b[0;34m,\u001b[0m \u001b[0mdim\u001b[0m\u001b[0;34m=\u001b[0m\u001b[0;32mNone\u001b[0m\u001b[0;34m,\u001b[0m \u001b[0mkeepdim\u001b[0m\u001b[0;34m=\u001b[0m\u001b[0;32mFalse\u001b[0m\u001b[0;34m,\u001b[0m \u001b[0mout\u001b[0m\u001b[0;34m=\u001b[0m\u001b[0;32mNone\u001b[0m\u001b[0;34m,\u001b[0m \u001b[0mdtype\u001b[0m\u001b[0;34m=\u001b[0m\u001b[0;32mNone\u001b[0m\u001b[0;34m)\u001b[0m\u001b[0;34m\u001b[0m\u001b[0;34m\u001b[0m\u001b[0m\n",
       "\u001b[0;31mDocstring:\u001b[0m\n",
       "Returns the matrix norm or vector norm of a given tensor.\n",
       "\n",
       ".. warning::\n",
       "\n",
       "    torch.norm is deprecated and may be removed in a future PyTorch release.\n",
       "    Its documentation and behavior may be incorrect, and it is no longer\n",
       "    actively maintained.\n",
       "\n",
       "    Use :func:`torch.linalg.norm`, instead, or :func:`torch.linalg.vector_norm`\n",
       "    when computing vector norms and :func:`torch.linalg.matrix_norm` when\n",
       "    computing matrix norms. Note, however, the signature for these functions\n",
       "    is slightly different than the signature for torch.norm.\n",
       "\n",
       "Args:\n",
       "    input (Tensor): The input tensor. Its data type must be either a floating\n",
       "        point or complex type. For complex inputs, the norm is calculated using the\n",
       "        absolute value of each element. If the input is complex and neither\n",
       "        :attr:`dtype` nor :attr:`out` is specified, the result's data type will\n",
       "        be the corresponding floating point type (e.g. float if :attr:`input` is\n",
       "        complexfloat).\n",
       "\n",
       "    p (int, float, inf, -inf, 'fro', 'nuc', optional): the order of norm. Default: ``'fro'``\n",
       "        The following norms can be calculated:\n",
       "\n",
       "        ======  ==============  ==========================\n",
       "        ord     matrix norm     vector norm\n",
       "        ======  ==============  ==========================\n",
       "        'fro'   Frobenius norm  --\n",
       "        'nuc'   nuclear norm    --\n",
       "        Number  --              sum(abs(x)**ord)**(1./ord)\n",
       "        ======  ==============  ==========================\n",
       "\n",
       "        The vector norm can be calculated across any number of dimensions.\n",
       "        The corresponding dimensions of :attr:`input` are flattened into\n",
       "        one dimension, and the norm is calculated on the flattened\n",
       "        dimension.\n",
       "\n",
       "        Frobenius norm produces the same result as ``p=2`` in all cases\n",
       "        except when :attr:`dim` is a list of three or more dims, in which\n",
       "        case Frobenius norm throws an error.\n",
       "\n",
       "        Nuclear norm can only be calculated across exactly two dimensions.\n",
       "\n",
       "    dim (int, tuple of ints, list of ints, optional):\n",
       "        Specifies which dimension or dimensions of :attr:`input` to\n",
       "        calculate the norm across. If :attr:`dim` is ``None``, the norm will\n",
       "        be calculated across all dimensions of :attr:`input`. If the norm\n",
       "        type indicated by :attr:`p` does not support the specified number of\n",
       "        dimensions, an error will occur.\n",
       "    keepdim (bool, optional): whether the output tensors have :attr:`dim`\n",
       "        retained or not. Ignored if :attr:`dim` = ``None`` and\n",
       "        :attr:`out` = ``None``. Default: ``False``\n",
       "    out (Tensor, optional): the output tensor. Ignored if\n",
       "        :attr:`dim` = ``None`` and :attr:`out` = ``None``.\n",
       "    dtype (:class:`torch.dtype`, optional): the desired data type of\n",
       "        returned tensor. If specified, the input tensor is casted to\n",
       "        :attr:`dtype` while performing the operation. Default: None.\n",
       "\n",
       ".. note::\n",
       "    Even though ``p='fro'`` supports any number of dimensions, the true\n",
       "    mathematical definition of Frobenius norm only applies to tensors with\n",
       "    exactly two dimensions. :func:`torch.linalg.norm` with ``ord='fro'`` aligns\n",
       "    with the mathematical definition, since it can only be applied across\n",
       "    exactly two dimensions.\n",
       "\n",
       "Example::\n",
       "\n",
       "    >>> import torch\n",
       "    >>> a = torch.arange(9, dtype= torch.float) - 4\n",
       "    >>> b = a.reshape((3, 3))\n",
       "    >>> torch.norm(a)\n",
       "    tensor(7.7460)\n",
       "    >>> torch.norm(b)\n",
       "    tensor(7.7460)\n",
       "    >>> torch.norm(a, float('inf'))\n",
       "    tensor(4.)\n",
       "    >>> torch.norm(b, float('inf'))\n",
       "    tensor(4.)\n",
       "    >>> c = torch.tensor([[ 1, 2, 3],[-1, 1, 4]] , dtype= torch.float)\n",
       "    >>> torch.norm(c, dim=0)\n",
       "    tensor([1.4142, 2.2361, 5.0000])\n",
       "    >>> torch.norm(c, dim=1)\n",
       "    tensor([3.7417, 4.2426])\n",
       "    >>> torch.norm(c, p=1, dim=1)\n",
       "    tensor([6., 6.])\n",
       "    >>> d = torch.arange(8, dtype= torch.float).reshape(2,2,2)\n",
       "    >>> torch.norm(d, dim=(1,2))\n",
       "    tensor([ 3.7417, 11.2250])\n",
       "    >>> torch.norm(d[0, :, :]), torch.norm(d[1, :, :])\n",
       "    (tensor(3.7417), tensor(11.2250))\n",
       "\u001b[0;31mFile:\u001b[0m      ~/miniforge3/envs/d2l-zh/lib/python3.8/site-packages/torch/functional.py\n",
       "\u001b[0;31mType:\u001b[0m      function\n"
      ]
     },
     "metadata": {},
     "output_type": "display_data"
    }
   ],
   "source": [
    "torch.norm?"
   ]
  },
  {
   "cell_type": "code",
   "execution_count": null,
   "id": "ae5dcd91-cfb7-4e0c-9b04-6d2ef21e1f11",
   "metadata": {},
   "outputs": [],
   "source": []
  }
 ],
 "metadata": {
  "kernelspec": {
   "display_name": "Python 3 (ipykernel)",
   "language": "python",
   "name": "python3"
  },
  "language_info": {
   "codemirror_mode": {
    "name": "ipython",
    "version": 3
   },
   "file_extension": ".py",
   "mimetype": "text/x-python",
   "name": "python",
   "nbconvert_exporter": "python",
   "pygments_lexer": "ipython3",
   "version": "3.8.12"
  },
  "toc-showcode": false
 },
 "nbformat": 4,
 "nbformat_minor": 5
}
