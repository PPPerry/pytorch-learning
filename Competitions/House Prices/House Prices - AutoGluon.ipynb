{
 "cells": [
  {
   "cell_type": "code",
   "execution_count": null,
   "metadata": {},
   "outputs": [],
   "source": [
    "!pip install \"mxnet<2.0.0\"\n",
    "!pip install autogluon"
   ]
  },
  {
   "cell_type": "code",
   "execution_count": null,
   "metadata": {},
   "outputs": [],
   "source": [
    "from autogluon.tabular import TabularDataset, TabularPredictor\n",
    "train_data = TabularDataset('../input/house-prices-advanced-regression-techniques/train.csv')\n",
    "id, label = 'Id', 'SalePrice'\n",
    "predictor = TabularPredictor(label=label).fit(\n",
    "    train_data.drop(columns=[id]))"
   ]
  },
  {
   "cell_type": "code",
   "execution_count": null,
   "metadata": {},
   "outputs": [],
   "source": [
    "import pandas as pd\n",
    "test_data = TabularDataset('../input/house-prices-advanced-regression-techniques/test.csv')\n",
    "preds = predictor.predict(test_data.drop(columns=[id]))\n",
    "submission = pd.DataFrame({id:test_data[id], label:preds})\n",
    "submission.to_csv('submission.csv', index=False)"
   ]
  }
 ],
 "metadata": {
  "language_info": {
   "name": "python"
  },
  "orig_nbformat": 4
 },
 "nbformat": 4,
 "nbformat_minor": 2
}
