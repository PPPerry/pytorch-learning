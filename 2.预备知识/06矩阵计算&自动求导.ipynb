{
 "cells": [
  {
   "cell_type": "markdown",
   "id": "47af0ad0-a9c2-4227-8be6-7583764262f3",
   "metadata": {},
   "source": [
    "# 矩阵计算"
   ]
  },
  {
   "cell_type": "markdown",
   "id": "1982069c-0c3b-4762-9062-eff54159401d",
   "metadata": {},
   "source": [
    "![样例](figure/求导1.jpg)\n",
    "![样例](figure/求导2.jpg)\n",
    "![样例](figure/求导3.jpg)\n",
    "![样例](figure/求导4.jpg)"
   ]
  },
  {
   "cell_type": "markdown",
   "id": "e3fe5e9d-6a64-45fe-a880-a5a587cf6a2e",
   "metadata": {},
   "source": [
    "# 自动求导"
   ]
  },
  {
   "cell_type": "code",
   "execution_count": 1,
   "id": "10a63e4d-3786-4911-aa09-5c672c52e6f6",
   "metadata": {},
   "outputs": [
    {
     "data": {
      "text/plain": [
       "tensor([0., 1., 2., 3.])"
      ]
     },
     "execution_count": 1,
     "metadata": {},
     "output_type": "execute_result"
    }
   ],
   "source": [
    "import torch\n",
    "\n",
    "x = torch.arange(4.)\n",
    "x"
   ]
  },
  {
   "cell_type": "code",
   "execution_count": 2,
   "id": "235cb9e1-4527-49fe-ae8e-89fcb9469a9d",
   "metadata": {},
   "outputs": [],
   "source": [
    "x.requires_grad_(True)  # 设置存放梯度，相当于x = torch.arange(4., requires_grad=True)\n",
    "x.grad  # 默认是None"
   ]
  },
  {
   "cell_type": "code",
   "execution_count": 3,
   "id": "03bc11c8-901a-46ab-9786-3828207d1aa1",
   "metadata": {},
   "outputs": [
    {
     "data": {
      "text/plain": [
       "tensor(28., grad_fn=<MulBackward0>)"
      ]
     },
     "execution_count": 3,
     "metadata": {},
     "output_type": "execute_result"
    }
   ],
   "source": [
    "y = 2 * torch.dot(x, x)\n",
    "y  # 计算图"
   ]
  },
  {
   "cell_type": "code",
   "execution_count": 4,
   "id": "f980c178-bcc1-4004-a681-4fb1ca590594",
   "metadata": {},
   "outputs": [
    {
     "data": {
      "text/plain": [
       "tensor([ 0.,  4.,  8., 12.])"
      ]
     },
     "execution_count": 4,
     "metadata": {},
     "output_type": "execute_result"
    }
   ],
   "source": [
    "y.backward()\n",
    "x.grad"
   ]
  },
  {
   "cell_type": "code",
   "execution_count": 5,
   "id": "b32d5c1c-c68e-4883-83f3-0a5b5423f478",
   "metadata": {},
   "outputs": [
    {
     "data": {
      "text/plain": [
       "tensor([1., 1., 1., 1.])"
      ]
     },
     "execution_count": 5,
     "metadata": {},
     "output_type": "execute_result"
    }
   ],
   "source": [
    "# Pytorch默认会累积梯度，需要清除之前的值\n",
    "x.grad.zero_()\n",
    "y = x.sum()\n",
    "y.backward()\n",
    "x.grad"
   ]
  },
  {
   "cell_type": "markdown",
   "id": "63eb64ef-a92c-4a38-bffb-4aef5c7cf030",
   "metadata": {},
   "source": [
    "## 1.detach"
   ]
  },
  {
   "cell_type": "code",
   "execution_count": 6,
   "id": "af416799-3b61-43f0-acc1-7eaf6614647d",
   "metadata": {},
   "outputs": [],
   "source": [
    "x.grad.zero_()\n",
    "y = x * x\n",
    "u = y.detach()\n",
    "\n",
    "z = u * x"
   ]
  },
  {
   "cell_type": "code",
   "execution_count": 7,
   "id": "3848a6b5-ea91-48f4-8aba-4940651f156b",
   "metadata": {},
   "outputs": [
    {
     "data": {
      "text/plain": [
       "tensor([True, True, True, True])"
      ]
     },
     "execution_count": 7,
     "metadata": {},
     "output_type": "execute_result"
    }
   ],
   "source": [
    "z.sum().backward()\n",
    "x.grad == u"
   ]
  },
  {
   "cell_type": "code",
   "execution_count": 8,
   "id": "e1290b10-7495-457e-a6bd-c6777f5d5615",
   "metadata": {},
   "outputs": [
    {
     "data": {
      "text/plain": [
       "tensor([True, True, True, True])"
      ]
     },
     "execution_count": 8,
     "metadata": {},
     "output_type": "execute_result"
    }
   ],
   "source": [
    "x.grad.zero_()\n",
    "y.sum().backward()\n",
    "x.grad == 2 * x"
   ]
  },
  {
   "cell_type": "markdown",
   "id": "3c3750f1-5ba6-4124-b21f-6e660e1d5461",
   "metadata": {},
   "source": [
    "## 2.控制流梯度"
   ]
  },
  {
   "cell_type": "code",
   "execution_count": 9,
   "id": "23ea059c-db12-4c22-b9cc-9df92bfa8e20",
   "metadata": {},
   "outputs": [
    {
     "data": {
      "text/plain": [
       "tensor(True)"
      ]
     },
     "execution_count": 9,
     "metadata": {},
     "output_type": "execute_result"
    }
   ],
   "source": [
    "def f(a):\n",
    "    b = a * 2\n",
    "    while b.norm() < 1000:\n",
    "        b = b * 2\n",
    "    if b.sum() > 0:\n",
    "        c = b\n",
    "    else:\n",
    "        c = 100 * b\n",
    "    return c\n",
    "\n",
    "a = torch.randn(size=(), requires_grad=True)\n",
    "d = f(a)\n",
    "d.backward()\n",
    "a.grad == d / a"
   ]
  },
  {
   "cell_type": "code",
   "execution_count": 10,
   "id": "772a0e29-041b-4571-aab7-2c5f93fba565",
   "metadata": {},
   "outputs": [
    {
     "data": {
      "text/plain": [
       "(tensor(-1.5063), tensor(1.5063))"
      ]
     },
     "execution_count": 10,
     "metadata": {},
     "output_type": "execute_result"
    }
   ],
   "source": [
    "a = torch.randn(size=())\n",
    "a, a.norm()"
   ]
  }
 ],
 "metadata": {
  "kernelspec": {
   "display_name": "Python 3 (ipykernel)",
   "language": "python",
   "name": "python3"
  },
  "language_info": {
   "codemirror_mode": {
    "name": "ipython",
    "version": 3
   },
   "file_extension": ".py",
   "mimetype": "text/x-python",
   "name": "python",
   "nbconvert_exporter": "python",
   "pygments_lexer": "ipython3",
   "version": "3.8.12"
  }
 },
 "nbformat": 4,
 "nbformat_minor": 5
}
