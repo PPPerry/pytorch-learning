{
 "cells": [
  {
   "cell_type": "markdown",
   "id": "5c3539a7-c63c-4e2e-8da7-0b1f74fa7274",
   "metadata": {},
   "source": [
    "# 线性代数"
   ]
  },
  {
   "cell_type": "code",
   "execution_count": 1,
   "id": "504714ab-f9f5-47a3-9bfb-232c8e4c91bb",
   "metadata": {},
   "outputs": [],
   "source": [
    "import torch"
   ]
  },
  {
   "cell_type": "code",
   "execution_count": 2,
   "id": "c447e2db-0cd7-48a0-a5b2-39b8919f08bd",
   "metadata": {},
   "outputs": [
    {
     "data": {
      "text/plain": [
       "tensor([[[ 0,  1,  2,  3],\n",
       "         [ 4,  5,  6,  7],\n",
       "         [ 8,  9, 10, 11]],\n",
       "\n",
       "        [[12, 13, 14, 15],\n",
       "         [16, 17, 18, 19],\n",
       "         [20, 21, 22, 23]]])"
      ]
     },
     "execution_count": 2,
     "metadata": {},
     "output_type": "execute_result"
    }
   ],
   "source": [
    "X = torch.arange(24).reshape(2, 3, 4)  # 两个三行四列的矩阵\n",
    "X"
   ]
  },
  {
   "cell_type": "code",
   "execution_count": 3,
   "id": "6d641e9f-2e54-4b55-acd8-69c06a2cc561",
   "metadata": {},
   "outputs": [
    {
     "data": {
      "text/plain": [
       "torch.Size([2, 3, 4])"
      ]
     },
     "execution_count": 3,
     "metadata": {},
     "output_type": "execute_result"
    }
   ],
   "source": [
    "X.shape"
   ]
  },
  {
   "cell_type": "code",
   "execution_count": 4,
   "id": "66619026-4a47-46ae-bd6e-7116a835ed2d",
   "metadata": {},
   "outputs": [
    {
     "data": {
      "text/plain": [
       "True"
      ]
     },
     "execution_count": 4,
     "metadata": {},
     "output_type": "execute_result"
    }
   ],
   "source": [
    "A = torch.arange(20, dtype=torch.float32).reshape(5, 4)\n",
    "B = A  # 如果只是赋值操作，则不分配新内存，只相当于一个索引\n",
    "id(B) == id(A)"
   ]
  },
  {
   "cell_type": "markdown",
   "id": "1a7344bd-6c71-47a0-9dcb-eb9eb4ddb5ea",
   "metadata": {},
   "source": [
    "## 1.显式复制"
   ]
  },
  {
   "cell_type": "code",
   "execution_count": 5,
   "id": "050c5da0-7358-4f5f-9e63-92319254774f",
   "metadata": {},
   "outputs": [
    {
     "data": {
      "text/plain": [
       "False"
      ]
     },
     "execution_count": 5,
     "metadata": {},
     "output_type": "execute_result"
    }
   ],
   "source": [
    "B = A.clone()  # 显式地复制\n",
    "id(B) == id(A)"
   ]
  },
  {
   "cell_type": "code",
   "execution_count": 6,
   "id": "36428988-6ff7-4912-8037-5bb915ce5973",
   "metadata": {},
   "outputs": [
    {
     "data": {
      "text/plain": [
       "(tensor([[ 0.,  1.,  2.,  3.],\n",
       "         [ 4.,  5.,  6.,  7.],\n",
       "         [ 8.,  9., 10., 11.],\n",
       "         [12., 13., 14., 15.],\n",
       "         [16., 17., 18., 19.]]),\n",
       " tensor([[ 0.,  1.,  2.,  3.],\n",
       "         [ 4.,  5.,  6.,  7.],\n",
       "         [ 8.,  9., 10., 11.],\n",
       "         [12., 13., 14., 15.],\n",
       "         [16., 17., 18., 19.]]))"
      ]
     },
     "execution_count": 6,
     "metadata": {},
     "output_type": "execute_result"
    }
   ],
   "source": [
    "A, B"
   ]
  },
  {
   "cell_type": "markdown",
   "id": "2856c21a-73e6-4eae-b6d6-783e3f3413cd",
   "metadata": {},
   "source": [
    "## 2.按元素乘"
   ]
  },
  {
   "cell_type": "code",
   "execution_count": 7,
   "id": "b38cf277-c57b-4be9-afb7-8d97d3f2e946",
   "metadata": {},
   "outputs": [
    {
     "data": {
      "text/plain": [
       "tensor([[  0.,   1.,   4.,   9.],\n",
       "        [ 16.,  25.,  36.,  49.],\n",
       "        [ 64.,  81., 100., 121.],\n",
       "        [144., 169., 196., 225.],\n",
       "        [256., 289., 324., 361.]])"
      ]
     },
     "execution_count": 7,
     "metadata": {},
     "output_type": "execute_result"
    }
   ],
   "source": [
    "A * B  # 按元素乘"
   ]
  },
  {
   "cell_type": "markdown",
   "id": "8d0663b0-393b-47d7-9fb8-b0a607ae97ef",
   "metadata": {},
   "source": [
    "## 3.指定轴求和"
   ]
  },
  {
   "cell_type": "code",
   "execution_count": 8,
   "id": "81ddf02d-3271-4d93-a684-dad3e9529c4f",
   "metadata": {},
   "outputs": [
    {
     "data": {
      "text/plain": [
       "tensor([[[ 0.,  1.,  2.,  3.],\n",
       "         [ 4.,  5.,  6.,  7.],\n",
       "         [ 8.,  9., 10., 11.],\n",
       "         [12., 13., 14., 15.],\n",
       "         [16., 17., 18., 19.]],\n",
       "\n",
       "        [[20., 21., 22., 23.],\n",
       "         [24., 25., 26., 27.],\n",
       "         [28., 29., 30., 31.],\n",
       "         [32., 33., 34., 35.],\n",
       "         [36., 37., 38., 39.]]])"
      ]
     },
     "execution_count": 8,
     "metadata": {},
     "output_type": "execute_result"
    }
   ],
   "source": [
    "A = torch.arange(40, dtype=torch.float32).reshape(2, 5, 4)\n",
    "A"
   ]
  },
  {
   "cell_type": "code",
   "execution_count": 9,
   "id": "4897c913-842a-4b3f-a5d2-b68b149c8211",
   "metadata": {},
   "outputs": [
    {
     "data": {
      "text/plain": [
       "(tensor([[20., 22., 24., 26.],\n",
       "         [28., 30., 32., 34.],\n",
       "         [36., 38., 40., 42.],\n",
       "         [44., 46., 48., 50.],\n",
       "         [52., 54., 56., 58.]]),\n",
       " torch.Size([5, 4]))"
      ]
     },
     "execution_count": 9,
     "metadata": {},
     "output_type": "execute_result"
    }
   ],
   "source": [
    "sum0 = A.sum(axis=0)\n",
    "sum0, sum0.shape"
   ]
  },
  {
   "cell_type": "code",
   "execution_count": 10,
   "id": "cd68016a-de0b-4b4e-862d-64b301ee66be",
   "metadata": {},
   "outputs": [
    {
     "data": {
      "text/plain": [
       "(tensor([[ 40.,  45.,  50.,  55.],\n",
       "         [140., 145., 150., 155.]]),\n",
       " torch.Size([2, 4]))"
      ]
     },
     "execution_count": 10,
     "metadata": {},
     "output_type": "execute_result"
    }
   ],
   "source": [
    "sum1 = A.sum(axis=1)\n",
    "sum1, sum1.shape"
   ]
  },
  {
   "cell_type": "code",
   "execution_count": 11,
   "id": "b46463a6-5158-4724-9709-2585ee1d86f1",
   "metadata": {},
   "outputs": [
    {
     "data": {
      "text/plain": [
       "torch.Size([4])"
      ]
     },
     "execution_count": 11,
     "metadata": {},
     "output_type": "execute_result"
    }
   ],
   "source": [
    "A.sum(axis=[0, 1]).shape"
   ]
  },
  {
   "cell_type": "code",
   "execution_count": 12,
   "id": "d2625673-f9a2-4258-953d-d86cc1faf288",
   "metadata": {},
   "outputs": [
    {
     "data": {
      "text/plain": [
       "torch.Size([])"
      ]
     },
     "execution_count": 12,
     "metadata": {},
     "output_type": "execute_result"
    }
   ],
   "source": [
    "A.sum().shape"
   ]
  },
  {
   "cell_type": "markdown",
   "id": "9cd37d46-bc68-4064-b18c-c7e8f5d9dd20",
   "metadata": {},
   "source": [
    "## 4.平均值"
   ]
  },
  {
   "cell_type": "code",
   "execution_count": 14,
   "id": "115783b0-1032-42ab-bd34-49245604f712",
   "metadata": {},
   "outputs": [
    {
     "data": {
      "text/plain": [
       "(tensor(19.5000), tensor(19.5000))"
      ]
     },
     "execution_count": 14,
     "metadata": {},
     "output_type": "execute_result"
    }
   ],
   "source": [
    "A.mean(), A.sum() / A.numel()"
   ]
  },
  {
   "cell_type": "code",
   "execution_count": 15,
   "id": "99d51db5-20e1-40fa-94b4-4dcbc8a19713",
   "metadata": {},
   "outputs": [
    {
     "data": {
      "text/plain": [
       "(tensor([[10., 11., 12., 13.],\n",
       "         [14., 15., 16., 17.],\n",
       "         [18., 19., 20., 21.],\n",
       "         [22., 23., 24., 25.],\n",
       "         [26., 27., 28., 29.]]),\n",
       " tensor([[10., 11., 12., 13.],\n",
       "         [14., 15., 16., 17.],\n",
       "         [18., 19., 20., 21.],\n",
       "         [22., 23., 24., 25.],\n",
       "         [26., 27., 28., 29.]]))"
      ]
     },
     "execution_count": 15,
     "metadata": {},
     "output_type": "execute_result"
    }
   ],
   "source": [
    "A.mean(axis=0), A.sum(axis=0) / A.shape[0]"
   ]
  },
  {
   "cell_type": "code",
   "execution_count": 16,
   "id": "4239aac8-7d40-4306-a114-2fac7dd85d5b",
   "metadata": {},
   "outputs": [
    {
     "data": {
      "text/plain": [
       "torch.Size([2, 1, 4])"
      ]
     },
     "execution_count": 16,
     "metadata": {},
     "output_type": "execute_result"
    }
   ],
   "source": [
    "sumA = A.sum(axis=1, keepdims=True)  # 保持维度不变\n",
    "sumA.shape"
   ]
  },
  {
   "cell_type": "markdown",
   "id": "c2db1a44-40a0-4acc-ae8d-03c48037febe",
   "metadata": {},
   "source": [
    "## 5.累加求和"
   ]
  },
  {
   "cell_type": "code",
   "execution_count": 17,
   "id": "d82bfaac-0d78-4401-ad9d-03efa68a4fa1",
   "metadata": {},
   "outputs": [
    {
     "data": {
      "text/plain": [
       "tensor([[ 0.,  1.,  2.,  3.],\n",
       "        [ 4.,  5.,  6.,  7.],\n",
       "        [ 8.,  9., 10., 11.],\n",
       "        [12., 13., 14., 15.],\n",
       "        [16., 17., 18., 19.]])"
      ]
     },
     "execution_count": 17,
     "metadata": {},
     "output_type": "execute_result"
    }
   ],
   "source": [
    "B = torch.arange(20, dtype=torch.float32).reshape(5, 4)\n",
    "B"
   ]
  },
  {
   "cell_type": "code",
   "execution_count": 18,
   "id": "468d96a7-4f5e-43a2-a7d4-44456c638d9e",
   "metadata": {},
   "outputs": [
    {
     "data": {
      "text/plain": [
       "tensor([[ 0.,  1.,  2.,  3.],\n",
       "        [ 4.,  6.,  8., 10.],\n",
       "        [12., 15., 18., 21.],\n",
       "        [24., 28., 32., 36.],\n",
       "        [40., 45., 50., 55.]])"
      ]
     },
     "execution_count": 18,
     "metadata": {},
     "output_type": "execute_result"
    }
   ],
   "source": [
    "B.cumsum(axis=0)"
   ]
  },
  {
   "cell_type": "markdown",
   "id": "1258bdac-749b-42bb-a5c2-e401f2882c8b",
   "metadata": {},
   "source": [
    "## 6.点积"
   ]
  },
  {
   "cell_type": "code",
   "execution_count": 19,
   "id": "f45771c8-9c7f-489b-92b1-68433cf195df",
   "metadata": {},
   "outputs": [
    {
     "data": {
      "text/plain": [
       "(tensor([0., 1., 2., 3.]), tensor([1., 1., 1., 1.]), tensor(6.))"
      ]
     },
     "execution_count": 19,
     "metadata": {},
     "output_type": "execute_result"
    }
   ],
   "source": [
    "x = torch.arange(4, dtype=torch.float32)\n",
    "y = torch.ones(4, dtype=torch.float32)\n",
    "x, y, torch.dot(x, y)"
   ]
  },
  {
   "cell_type": "code",
   "execution_count": 20,
   "id": "d94847b3-9261-4603-bc71-cfd2432f0caa",
   "metadata": {},
   "outputs": [
    {
     "data": {
      "text/plain": [
       "tensor(6.)"
      ]
     },
     "execution_count": 20,
     "metadata": {},
     "output_type": "execute_result"
    }
   ],
   "source": [
    "torch.sum(x * y)"
   ]
  },
  {
   "cell_type": "markdown",
   "id": "533f65a4-1eac-4277-bddd-589481397a9d",
   "metadata": {},
   "source": [
    "## 7.矩阵乘向量"
   ]
  },
  {
   "cell_type": "code",
   "execution_count": 21,
   "id": "d01d8fc2-71b4-4501-bc5a-1a6f86b5f441",
   "metadata": {},
   "outputs": [
    {
     "data": {
      "text/plain": [
       "(torch.Size([5, 4]), torch.Size([4]), tensor([ 14.,  38.,  62.,  86., 110.]))"
      ]
     },
     "execution_count": 21,
     "metadata": {},
     "output_type": "execute_result"
    }
   ],
   "source": [
    "B.shape, x.shape, torch.mv(B, x)"
   ]
  },
  {
   "cell_type": "markdown",
   "id": "c0fdcb12-4a6c-4844-830c-33a911405fc6",
   "metadata": {},
   "source": [
    "## 8.矩阵乘矩阵"
   ]
  },
  {
   "cell_type": "code",
   "execution_count": 22,
   "id": "73f93ce9-53c5-479b-9198-6c41af05819c",
   "metadata": {},
   "outputs": [
    {
     "data": {
      "text/plain": [
       "(tensor([[1., 1., 1.],\n",
       "         [1., 1., 1.],\n",
       "         [1., 1., 1.],\n",
       "         [1., 1., 1.]]),\n",
       " tensor([[ 0.,  1.,  2.,  3.],\n",
       "         [ 4.,  5.,  6.,  7.],\n",
       "         [ 8.,  9., 10., 11.],\n",
       "         [12., 13., 14., 15.],\n",
       "         [16., 17., 18., 19.]]))"
      ]
     },
     "execution_count": 22,
     "metadata": {},
     "output_type": "execute_result"
    }
   ],
   "source": [
    "A = torch.ones(4, 3)\n",
    "A, B"
   ]
  },
  {
   "cell_type": "code",
   "execution_count": 23,
   "id": "3b0edb2d-94ac-4489-a689-398b7e4a8761",
   "metadata": {},
   "outputs": [
    {
     "data": {
      "text/plain": [
       "tensor([[ 6.,  6.,  6.],\n",
       "        [22., 22., 22.],\n",
       "        [38., 38., 38.],\n",
       "        [54., 54., 54.],\n",
       "        [70., 70., 70.]])"
      ]
     },
     "execution_count": 23,
     "metadata": {},
     "output_type": "execute_result"
    }
   ],
   "source": [
    "torch.mm(B, A)"
   ]
  },
  {
   "cell_type": "markdown",
   "id": "d786ed93-d56a-43bb-adb3-f7cfbe5248c5",
   "metadata": {},
   "source": [
    "## 9.L2范数"
   ]
  },
  {
   "cell_type": "code",
   "execution_count": 24,
   "id": "871d46ce-a287-4111-9d9d-640cc4059eb8",
   "metadata": {},
   "outputs": [
    {
     "data": {
      "text/plain": [
       "tensor(5.)"
      ]
     },
     "execution_count": 24,
     "metadata": {},
     "output_type": "execute_result"
    }
   ],
   "source": [
    "u = torch.tensor([3., 4.])\n",
    "torch.norm(u)  # 元素和的平方根"
   ]
  },
  {
   "cell_type": "markdown",
   "id": "ba8d5932-dff7-4057-a47b-b13160916e56",
   "metadata": {},
   "source": [
    "## 10.L1范数"
   ]
  },
  {
   "cell_type": "code",
   "execution_count": 25,
   "id": "1e26120f-e9b9-4eb7-9f39-c242ea5aad93",
   "metadata": {},
   "outputs": [
    {
     "data": {
      "text/plain": [
       "tensor(7.)"
      ]
     },
     "execution_count": 25,
     "metadata": {},
     "output_type": "execute_result"
    }
   ],
   "source": [
    "torch.abs(u).sum()  # 绝对值求和"
   ]
  },
  {
   "cell_type": "markdown",
   "id": "d3b32281-2d7a-4f4e-8eff-bc4134f7ec17",
   "metadata": {},
   "source": [
    "## 11.F范数"
   ]
  },
  {
   "cell_type": "code",
   "execution_count": 26,
   "id": "c2050dbd-91b7-4e29-a38f-64d64e439476",
   "metadata": {},
   "outputs": [
    {
     "data": {
      "text/plain": [
       "tensor(49.6991)"
      ]
     },
     "execution_count": 26,
     "metadata": {},
     "output_type": "execute_result"
    }
   ],
   "source": [
    "torch.norm(B)  # 相当于拉成一个向量"
   ]
  },
  {
   "cell_type": "code",
   "execution_count": 41,
   "id": "a73eb882-db24-4196-91fc-a61ae96e1753",
   "metadata": {},
   "outputs": [
    {
     "data": {
      "text/plain": [
       "tensor([[[1., 1., 1.]],\n",
       "\n",
       "        [[1., 1., 1.]],\n",
       "\n",
       "        [[1., 1., 1.]]])"
      ]
     },
     "execution_count": 41,
     "metadata": {},
     "output_type": "execute_result"
    }
   ],
   "source": [
    "A = torch.ones(3, 1, 3)\n",
    "A"
   ]
  },
  {
   "cell_type": "code",
   "execution_count": 42,
   "id": "986d4cb8-15c7-41a1-bdce-5bbcf0d3f103",
   "metadata": {},
   "outputs": [
    {
     "data": {
      "text/plain": [
       "tensor(3.)"
      ]
     },
     "execution_count": 42,
     "metadata": {},
     "output_type": "execute_result"
    }
   ],
   "source": [
    "torch.norm(A)"
   ]
  },
  {
   "cell_type": "code",
   "execution_count": 47,
   "id": "44bc395d-3348-4fd4-b79f-e2b3c312ec8a",
   "metadata": {},
   "outputs": [
    {
     "data": {
      "text/plain": [
       "\u001b[0;31mSignature:\u001b[0m \u001b[0mtorch\u001b[0m\u001b[0;34m.\u001b[0m\u001b[0mnorm\u001b[0m\u001b[0;34m(\u001b[0m\u001b[0minput\u001b[0m\u001b[0;34m,\u001b[0m \u001b[0mp\u001b[0m\u001b[0;34m=\u001b[0m\u001b[0;34m'fro'\u001b[0m\u001b[0;34m,\u001b[0m \u001b[0mdim\u001b[0m\u001b[0;34m=\u001b[0m\u001b[0;32mNone\u001b[0m\u001b[0;34m,\u001b[0m \u001b[0mkeepdim\u001b[0m\u001b[0;34m=\u001b[0m\u001b[0;32mFalse\u001b[0m\u001b[0;34m,\u001b[0m \u001b[0mout\u001b[0m\u001b[0;34m=\u001b[0m\u001b[0;32mNone\u001b[0m\u001b[0;34m,\u001b[0m \u001b[0mdtype\u001b[0m\u001b[0;34m=\u001b[0m\u001b[0;32mNone\u001b[0m\u001b[0;34m)\u001b[0m\u001b[0;34m\u001b[0m\u001b[0;34m\u001b[0m\u001b[0m\n",
       "\u001b[0;31mDocstring:\u001b[0m\n",
       "Returns the matrix norm or vector norm of a given tensor.\n",
       "\n",
       ".. warning::\n",
       "\n",
       "    torch.norm is deprecated and may be removed in a future PyTorch release.\n",
       "    Its documentation and behavior may be incorrect, and it is no longer\n",
       "    actively maintained.\n",
       "\n",
       "    Use :func:`torch.linalg.norm`, instead, or :func:`torch.linalg.vector_norm`\n",
       "    when computing vector norms and :func:`torch.linalg.matrix_norm` when\n",
       "    computing matrix norms. Note, however, the signature for these functions\n",
       "    is slightly different than the signature for torch.norm.\n",
       "\n",
       "Args:\n",
       "    input (Tensor): The input tensor. Its data type must be either a floating\n",
       "        point or complex type. For complex inputs, the norm is calculated using the\n",
       "        absolute value of each element. If the input is complex and neither\n",
       "        :attr:`dtype` nor :attr:`out` is specified, the result's data type will\n",
       "        be the corresponding floating point type (e.g. float if :attr:`input` is\n",
       "        complexfloat).\n",
       "\n",
       "    p (int, float, inf, -inf, 'fro', 'nuc', optional): the order of norm. Default: ``'fro'``\n",
       "        The following norms can be calculated:\n",
       "\n",
       "        ======  ==============  ==========================\n",
       "        ord     matrix norm     vector norm\n",
       "        ======  ==============  ==========================\n",
       "        'fro'   Frobenius norm  --\n",
       "        'nuc'   nuclear norm    --\n",
       "        Number  --              sum(abs(x)**ord)**(1./ord)\n",
       "        ======  ==============  ==========================\n",
       "\n",
       "        The vector norm can be calculated across any number of dimensions.\n",
       "        The corresponding dimensions of :attr:`input` are flattened into\n",
       "        one dimension, and the norm is calculated on the flattened\n",
       "        dimension.\n",
       "\n",
       "        Frobenius norm produces the same result as ``p=2`` in all cases\n",
       "        except when :attr:`dim` is a list of three or more dims, in which\n",
       "        case Frobenius norm throws an error.\n",
       "\n",
       "        Nuclear norm can only be calculated across exactly two dimensions.\n",
       "\n",
       "    dim (int, tuple of ints, list of ints, optional):\n",
       "        Specifies which dimension or dimensions of :attr:`input` to\n",
       "        calculate the norm across. If :attr:`dim` is ``None``, the norm will\n",
       "        be calculated across all dimensions of :attr:`input`. If the norm\n",
       "        type indicated by :attr:`p` does not support the specified number of\n",
       "        dimensions, an error will occur.\n",
       "    keepdim (bool, optional): whether the output tensors have :attr:`dim`\n",
       "        retained or not. Ignored if :attr:`dim` = ``None`` and\n",
       "        :attr:`out` = ``None``. Default: ``False``\n",
       "    out (Tensor, optional): the output tensor. Ignored if\n",
       "        :attr:`dim` = ``None`` and :attr:`out` = ``None``.\n",
       "    dtype (:class:`torch.dtype`, optional): the desired data type of\n",
       "        returned tensor. If specified, the input tensor is casted to\n",
       "        :attr:`dtype` while performing the operation. Default: None.\n",
       "\n",
       ".. note::\n",
       "    Even though ``p='fro'`` supports any number of dimensions, the true\n",
       "    mathematical definition of Frobenius norm only applies to tensors with\n",
       "    exactly two dimensions. :func:`torch.linalg.norm` with ``ord='fro'`` aligns\n",
       "    with the mathematical definition, since it can only be applied across\n",
       "    exactly two dimensions.\n",
       "\n",
       "Example::\n",
       "\n",
       "    >>> import torch\n",
       "    >>> a = torch.arange(9, dtype= torch.float) - 4\n",
       "    >>> b = a.reshape((3, 3))\n",
       "    >>> torch.norm(a)\n",
       "    tensor(7.7460)\n",
       "    >>> torch.norm(b)\n",
       "    tensor(7.7460)\n",
       "    >>> torch.norm(a, float('inf'))\n",
       "    tensor(4.)\n",
       "    >>> torch.norm(b, float('inf'))\n",
       "    tensor(4.)\n",
       "    >>> c = torch.tensor([[ 1, 2, 3],[-1, 1, 4]] , dtype= torch.float)\n",
       "    >>> torch.norm(c, dim=0)\n",
       "    tensor([1.4142, 2.2361, 5.0000])\n",
       "    >>> torch.norm(c, dim=1)\n",
       "    tensor([3.7417, 4.2426])\n",
       "    >>> torch.norm(c, p=1, dim=1)\n",
       "    tensor([6., 6.])\n",
       "    >>> d = torch.arange(8, dtype= torch.float).reshape(2,2,2)\n",
       "    >>> torch.norm(d, dim=(1,2))\n",
       "    tensor([ 3.7417, 11.2250])\n",
       "    >>> torch.norm(d[0, :, :]), torch.norm(d[1, :, :])\n",
       "    (tensor(3.7417), tensor(11.2250))\n",
       "\u001b[0;31mFile:\u001b[0m      ~/miniforge3/envs/d2l-zh/lib/python3.8/site-packages/torch/functional.py\n",
       "\u001b[0;31mType:\u001b[0m      function\n"
      ]
     },
     "metadata": {},
     "output_type": "display_data"
    }
   ],
   "source": [
    "torch.norm?"
   ]
  },
  {
   "cell_type": "markdown",
   "id": "991bf55c",
   "metadata": {},
   "source": [
    "## homework"
   ]
  },
  {
   "cell_type": "markdown",
   "id": "834f3e1b",
   "metadata": {},
   "source": [
    "绘制函数$f(x)=x^3-\\frac{1}{x}$和其在$x=1$处切线的图像"
   ]
  },
  {
   "cell_type": "code",
   "execution_count": 1,
   "id": "b1ba31a9",
   "metadata": {},
   "outputs": [],
   "source": [
    "from d2l import torch as d2l\n",
    "import numpy as np"
   ]
  },
  {
   "cell_type": "code",
   "execution_count": 3,
   "id": "0755ac42",
   "metadata": {},
   "outputs": [
    {
     "data": {
      "image/svg+xml": [
       "<?xml version=\"1.0\" encoding=\"utf-8\" standalone=\"no\"?>\r\n",
       "<!DOCTYPE svg PUBLIC \"-//W3C//DTD SVG 1.1//EN\"\r\n",
       "  \"http://www.w3.org/Graphics/SVG/1.1/DTD/svg11.dtd\">\r\n",
       "<!-- Created with matplotlib (https://matplotlib.org/) -->\r\n",
       "<svg height=\"180.65625pt\" version=\"1.1\" viewBox=\"0 0 252.127699 180.65625\" width=\"252.127699pt\" xmlns=\"http://www.w3.org/2000/svg\" xmlns:xlink=\"http://www.w3.org/1999/xlink\">\r\n",
       " <metadata>\r\n",
       "  <rdf:RDF xmlns:cc=\"http://creativecommons.org/ns#\" xmlns:dc=\"http://purl.org/dc/elements/1.1/\" xmlns:rdf=\"http://www.w3.org/1999/02/22-rdf-syntax-ns#\">\r\n",
       "   <cc:Work>\r\n",
       "    <dc:type rdf:resource=\"http://purl.org/dc/dcmitype/StillImage\"/>\r\n",
       "    <dc:date>2022-02-12T19:58:33.900342</dc:date>\r\n",
       "    <dc:format>image/svg+xml</dc:format>\r\n",
       "    <dc:creator>\r\n",
       "     <cc:Agent>\r\n",
       "      <dc:title>Matplotlib v3.3.3, https://matplotlib.org/</dc:title>\r\n",
       "     </cc:Agent>\r\n",
       "    </dc:creator>\r\n",
       "   </cc:Work>\r\n",
       "  </rdf:RDF>\r\n",
       " </metadata>\r\n",
       " <defs>\r\n",
       "  <style type=\"text/css\">*{stroke-linecap:butt;stroke-linejoin:round;}</style>\r\n",
       " </defs>\r\n",
       " <g id=\"figure_1\">\r\n",
       "  <g id=\"patch_1\">\r\n",
       "   <path d=\"M -0 180.65625 \r\n",
       "L 252.127699 180.65625 \r\n",
       "L 252.127699 0 \r\n",
       "L -0 0 \r\n",
       "z\r\n",
       "\" style=\"fill:none;\"/>\r\n",
       "  </g>\r\n",
       "  <g id=\"axes_1\">\r\n",
       "   <g id=\"patch_2\">\r\n",
       "    <path d=\"M 48.982813 143.1 \r\n",
       "L 244.282813 143.1 \r\n",
       "L 244.282813 7.2 \r\n",
       "L 48.982813 7.2 \r\n",
       "z\r\n",
       "\" style=\"fill:#ffffff;\"/>\r\n",
       "   </g>\r\n",
       "   <g id=\"matplotlib.axis_1\">\r\n",
       "    <g id=\"xtick_1\">\r\n",
       "     <g id=\"line2d_1\">\r\n",
       "      <path clip-path=\"url(#p3c8608cf72)\" d=\"M 51.519176 143.1 \r\n",
       "L 51.519176 7.2 \r\n",
       "\" style=\"fill:none;stroke:#b0b0b0;stroke-linecap:square;stroke-width:0.8;\"/>\r\n",
       "     </g>\r\n",
       "     <g id=\"line2d_2\">\r\n",
       "      <defs>\r\n",
       "       <path d=\"M 0 0 \r\n",
       "L 0 3.5 \r\n",
       "\" id=\"m9bb7f21ad9\" style=\"stroke:#000000;stroke-width:0.8;\"/>\r\n",
       "      </defs>\r\n",
       "      <g>\r\n",
       "       <use style=\"stroke:#000000;stroke-width:0.8;\" x=\"51.519176\" xlink:href=\"#m9bb7f21ad9\" y=\"143.1\"/>\r\n",
       "      </g>\r\n",
       "     </g>\r\n",
       "     <g id=\"text_1\">\r\n",
       "      <!-- 0 -->\r\n",
       "      <g transform=\"translate(48.337926 157.698438)scale(0.1 -0.1)\">\r\n",
       "       <defs>\r\n",
       "        <path d=\"M 31.78125 66.40625 \r\n",
       "Q 24.171875 66.40625 20.328125 58.90625 \r\n",
       "Q 16.5 51.421875 16.5 36.375 \r\n",
       "Q 16.5 21.390625 20.328125 13.890625 \r\n",
       "Q 24.171875 6.390625 31.78125 6.390625 \r\n",
       "Q 39.453125 6.390625 43.28125 13.890625 \r\n",
       "Q 47.125 21.390625 47.125 36.375 \r\n",
       "Q 47.125 51.421875 43.28125 58.90625 \r\n",
       "Q 39.453125 66.40625 31.78125 66.40625 \r\n",
       "z\r\n",
       "M 31.78125 74.21875 \r\n",
       "Q 44.046875 74.21875 50.515625 64.515625 \r\n",
       "Q 56.984375 54.828125 56.984375 36.375 \r\n",
       "Q 56.984375 17.96875 50.515625 8.265625 \r\n",
       "Q 44.046875 -1.421875 31.78125 -1.421875 \r\n",
       "Q 19.53125 -1.421875 13.0625 8.265625 \r\n",
       "Q 6.59375 17.96875 6.59375 36.375 \r\n",
       "Q 6.59375 54.828125 13.0625 64.515625 \r\n",
       "Q 19.53125 74.21875 31.78125 74.21875 \r\n",
       "z\r\n",
       "\" id=\"DejaVuSans-48\"/>\r\n",
       "       </defs>\r\n",
       "       <use xlink:href=\"#DejaVuSans-48\"/>\r\n",
       "      </g>\r\n",
       "     </g>\r\n",
       "    </g>\r\n",
       "    <g id=\"xtick_2\">\r\n",
       "     <g id=\"line2d_3\">\r\n",
       "      <path clip-path=\"url(#p3c8608cf72)\" d=\"M 114.928267 143.1 \r\n",
       "L 114.928267 7.2 \r\n",
       "\" style=\"fill:none;stroke:#b0b0b0;stroke-linecap:square;stroke-width:0.8;\"/>\r\n",
       "     </g>\r\n",
       "     <g id=\"line2d_4\">\r\n",
       "      <g>\r\n",
       "       <use style=\"stroke:#000000;stroke-width:0.8;\" x=\"114.928267\" xlink:href=\"#m9bb7f21ad9\" y=\"143.1\"/>\r\n",
       "      </g>\r\n",
       "     </g>\r\n",
       "     <g id=\"text_2\">\r\n",
       "      <!-- 1 -->\r\n",
       "      <g transform=\"translate(111.747017 157.698438)scale(0.1 -0.1)\">\r\n",
       "       <defs>\r\n",
       "        <path d=\"M 12.40625 8.296875 \r\n",
       "L 28.515625 8.296875 \r\n",
       "L 28.515625 63.921875 \r\n",
       "L 10.984375 60.40625 \r\n",
       "L 10.984375 69.390625 \r\n",
       "L 28.421875 72.90625 \r\n",
       "L 38.28125 72.90625 \r\n",
       "L 38.28125 8.296875 \r\n",
       "L 54.390625 8.296875 \r\n",
       "L 54.390625 0 \r\n",
       "L 12.40625 0 \r\n",
       "z\r\n",
       "\" id=\"DejaVuSans-49\"/>\r\n",
       "       </defs>\r\n",
       "       <use xlink:href=\"#DejaVuSans-49\"/>\r\n",
       "      </g>\r\n",
       "     </g>\r\n",
       "    </g>\r\n",
       "    <g id=\"xtick_3\">\r\n",
       "     <g id=\"line2d_5\">\r\n",
       "      <path clip-path=\"url(#p3c8608cf72)\" d=\"M 178.337358 143.1 \r\n",
       "L 178.337358 7.2 \r\n",
       "\" style=\"fill:none;stroke:#b0b0b0;stroke-linecap:square;stroke-width:0.8;\"/>\r\n",
       "     </g>\r\n",
       "     <g id=\"line2d_6\">\r\n",
       "      <g>\r\n",
       "       <use style=\"stroke:#000000;stroke-width:0.8;\" x=\"178.337358\" xlink:href=\"#m9bb7f21ad9\" y=\"143.1\"/>\r\n",
       "      </g>\r\n",
       "     </g>\r\n",
       "     <g id=\"text_3\">\r\n",
       "      <!-- 2 -->\r\n",
       "      <g transform=\"translate(175.156108 157.698438)scale(0.1 -0.1)\">\r\n",
       "       <defs>\r\n",
       "        <path d=\"M 19.1875 8.296875 \r\n",
       "L 53.609375 8.296875 \r\n",
       "L 53.609375 0 \r\n",
       "L 7.328125 0 \r\n",
       "L 7.328125 8.296875 \r\n",
       "Q 12.9375 14.109375 22.625 23.890625 \r\n",
       "Q 32.328125 33.6875 34.8125 36.53125 \r\n",
       "Q 39.546875 41.84375 41.421875 45.53125 \r\n",
       "Q 43.3125 49.21875 43.3125 52.78125 \r\n",
       "Q 43.3125 58.59375 39.234375 62.25 \r\n",
       "Q 35.15625 65.921875 28.609375 65.921875 \r\n",
       "Q 23.96875 65.921875 18.8125 64.3125 \r\n",
       "Q 13.671875 62.703125 7.8125 59.421875 \r\n",
       "L 7.8125 69.390625 \r\n",
       "Q 13.765625 71.78125 18.9375 73 \r\n",
       "Q 24.125 74.21875 28.421875 74.21875 \r\n",
       "Q 39.75 74.21875 46.484375 68.546875 \r\n",
       "Q 53.21875 62.890625 53.21875 53.421875 \r\n",
       "Q 53.21875 48.921875 51.53125 44.890625 \r\n",
       "Q 49.859375 40.875 45.40625 35.40625 \r\n",
       "Q 44.1875 33.984375 37.640625 27.21875 \r\n",
       "Q 31.109375 20.453125 19.1875 8.296875 \r\n",
       "z\r\n",
       "\" id=\"DejaVuSans-50\"/>\r\n",
       "       </defs>\r\n",
       "       <use xlink:href=\"#DejaVuSans-50\"/>\r\n",
       "      </g>\r\n",
       "     </g>\r\n",
       "    </g>\r\n",
       "    <g id=\"xtick_4\">\r\n",
       "     <g id=\"line2d_7\">\r\n",
       "      <path clip-path=\"url(#p3c8608cf72)\" d=\"M 241.746449 143.1 \r\n",
       "L 241.746449 7.2 \r\n",
       "\" style=\"fill:none;stroke:#b0b0b0;stroke-linecap:square;stroke-width:0.8;\"/>\r\n",
       "     </g>\r\n",
       "     <g id=\"line2d_8\">\r\n",
       "      <g>\r\n",
       "       <use style=\"stroke:#000000;stroke-width:0.8;\" x=\"241.746449\" xlink:href=\"#m9bb7f21ad9\" y=\"143.1\"/>\r\n",
       "      </g>\r\n",
       "     </g>\r\n",
       "     <g id=\"text_4\">\r\n",
       "      <!-- 3 -->\r\n",
       "      <g transform=\"translate(238.565199 157.698438)scale(0.1 -0.1)\">\r\n",
       "       <defs>\r\n",
       "        <path d=\"M 40.578125 39.3125 \r\n",
       "Q 47.65625 37.796875 51.625 33 \r\n",
       "Q 55.609375 28.21875 55.609375 21.1875 \r\n",
       "Q 55.609375 10.40625 48.1875 4.484375 \r\n",
       "Q 40.765625 -1.421875 27.09375 -1.421875 \r\n",
       "Q 22.515625 -1.421875 17.65625 -0.515625 \r\n",
       "Q 12.796875 0.390625 7.625 2.203125 \r\n",
       "L 7.625 11.71875 \r\n",
       "Q 11.71875 9.328125 16.59375 8.109375 \r\n",
       "Q 21.484375 6.890625 26.8125 6.890625 \r\n",
       "Q 36.078125 6.890625 40.9375 10.546875 \r\n",
       "Q 45.796875 14.203125 45.796875 21.1875 \r\n",
       "Q 45.796875 27.640625 41.28125 31.265625 \r\n",
       "Q 36.765625 34.90625 28.71875 34.90625 \r\n",
       "L 20.21875 34.90625 \r\n",
       "L 20.21875 43.015625 \r\n",
       "L 29.109375 43.015625 \r\n",
       "Q 36.375 43.015625 40.234375 45.921875 \r\n",
       "Q 44.09375 48.828125 44.09375 54.296875 \r\n",
       "Q 44.09375 59.90625 40.109375 62.90625 \r\n",
       "Q 36.140625 65.921875 28.71875 65.921875 \r\n",
       "Q 24.65625 65.921875 20.015625 65.03125 \r\n",
       "Q 15.375 64.15625 9.8125 62.3125 \r\n",
       "L 9.8125 71.09375 \r\n",
       "Q 15.4375 72.65625 20.34375 73.4375 \r\n",
       "Q 25.25 74.21875 29.59375 74.21875 \r\n",
       "Q 40.828125 74.21875 47.359375 69.109375 \r\n",
       "Q 53.90625 64.015625 53.90625 55.328125 \r\n",
       "Q 53.90625 49.265625 50.4375 45.09375 \r\n",
       "Q 46.96875 40.921875 40.578125 39.3125 \r\n",
       "z\r\n",
       "\" id=\"DejaVuSans-51\"/>\r\n",
       "       </defs>\r\n",
       "       <use xlink:href=\"#DejaVuSans-51\"/>\r\n",
       "      </g>\r\n",
       "     </g>\r\n",
       "    </g>\r\n",
       "    <g id=\"text_5\">\r\n",
       "     <!-- x -->\r\n",
       "     <g transform=\"translate(143.673438 171.376563)scale(0.1 -0.1)\">\r\n",
       "      <defs>\r\n",
       "       <path d=\"M 54.890625 54.6875 \r\n",
       "L 35.109375 28.078125 \r\n",
       "L 55.90625 0 \r\n",
       "L 45.3125 0 \r\n",
       "L 29.390625 21.484375 \r\n",
       "L 13.484375 0 \r\n",
       "L 2.875 0 \r\n",
       "L 24.125 28.609375 \r\n",
       "L 4.6875 54.6875 \r\n",
       "L 15.28125 54.6875 \r\n",
       "L 29.78125 35.203125 \r\n",
       "L 44.28125 54.6875 \r\n",
       "z\r\n",
       "\" id=\"DejaVuSans-120\"/>\r\n",
       "      </defs>\r\n",
       "      <use xlink:href=\"#DejaVuSans-120\"/>\r\n",
       "     </g>\r\n",
       "    </g>\r\n",
       "   </g>\r\n",
       "   <g id=\"matplotlib.axis_2\">\r\n",
       "    <g id=\"ytick_1\">\r\n",
       "     <g id=\"line2d_9\">\r\n",
       "      <path clip-path=\"url(#p3c8608cf72)\" d=\"M 48.982813 136.926356 \r\n",
       "L 244.282813 136.926356 \r\n",
       "\" style=\"fill:none;stroke:#b0b0b0;stroke-linecap:square;stroke-width:0.8;\"/>\r\n",
       "     </g>\r\n",
       "     <g id=\"line2d_10\">\r\n",
       "      <defs>\r\n",
       "       <path d=\"M 0 0 \r\n",
       "L -3.5 0 \r\n",
       "\" id=\"m8a0edaac46\" style=\"stroke:#000000;stroke-width:0.8;\"/>\r\n",
       "      </defs>\r\n",
       "      <g>\r\n",
       "       <use style=\"stroke:#000000;stroke-width:0.8;\" x=\"48.982813\" xlink:href=\"#m8a0edaac46\" y=\"136.926356\"/>\r\n",
       "      </g>\r\n",
       "     </g>\r\n",
       "     <g id=\"text_6\">\r\n",
       "      <!-- −10 -->\r\n",
       "      <g transform=\"translate(20.878125 140.725575)scale(0.1 -0.1)\">\r\n",
       "       <defs>\r\n",
       "        <path d=\"M 10.59375 35.5 \r\n",
       "L 73.1875 35.5 \r\n",
       "L 73.1875 27.203125 \r\n",
       "L 10.59375 27.203125 \r\n",
       "z\r\n",
       "\" id=\"DejaVuSans-8722\"/>\r\n",
       "       </defs>\r\n",
       "       <use xlink:href=\"#DejaVuSans-8722\"/>\r\n",
       "       <use x=\"83.789062\" xlink:href=\"#DejaVuSans-49\"/>\r\n",
       "       <use x=\"147.412109\" xlink:href=\"#DejaVuSans-48\"/>\r\n",
       "      </g>\r\n",
       "     </g>\r\n",
       "    </g>\r\n",
       "    <g id=\"ytick_2\">\r\n",
       "     <g id=\"line2d_11\">\r\n",
       "      <path clip-path=\"url(#p3c8608cf72)\" d=\"M 48.982813 100.635539 \r\n",
       "L 244.282813 100.635539 \r\n",
       "\" style=\"fill:none;stroke:#b0b0b0;stroke-linecap:square;stroke-width:0.8;\"/>\r\n",
       "     </g>\r\n",
       "     <g id=\"line2d_12\">\r\n",
       "      <g>\r\n",
       "       <use style=\"stroke:#000000;stroke-width:0.8;\" x=\"48.982813\" xlink:href=\"#m8a0edaac46\" y=\"100.635539\"/>\r\n",
       "      </g>\r\n",
       "     </g>\r\n",
       "     <g id=\"text_7\">\r\n",
       "      <!-- 0 -->\r\n",
       "      <g transform=\"translate(35.620313 104.434758)scale(0.1 -0.1)\">\r\n",
       "       <use xlink:href=\"#DejaVuSans-48\"/>\r\n",
       "      </g>\r\n",
       "     </g>\r\n",
       "    </g>\r\n",
       "    <g id=\"ytick_3\">\r\n",
       "     <g id=\"line2d_13\">\r\n",
       "      <path clip-path=\"url(#p3c8608cf72)\" d=\"M 48.982813 64.344722 \r\n",
       "L 244.282813 64.344722 \r\n",
       "\" style=\"fill:none;stroke:#b0b0b0;stroke-linecap:square;stroke-width:0.8;\"/>\r\n",
       "     </g>\r\n",
       "     <g id=\"line2d_14\">\r\n",
       "      <g>\r\n",
       "       <use style=\"stroke:#000000;stroke-width:0.8;\" x=\"48.982813\" xlink:href=\"#m8a0edaac46\" y=\"64.344722\"/>\r\n",
       "      </g>\r\n",
       "     </g>\r\n",
       "     <g id=\"text_8\">\r\n",
       "      <!-- 10 -->\r\n",
       "      <g transform=\"translate(29.257813 68.143941)scale(0.1 -0.1)\">\r\n",
       "       <use xlink:href=\"#DejaVuSans-49\"/>\r\n",
       "       <use x=\"63.623047\" xlink:href=\"#DejaVuSans-48\"/>\r\n",
       "      </g>\r\n",
       "     </g>\r\n",
       "    </g>\r\n",
       "    <g id=\"ytick_4\">\r\n",
       "     <g id=\"line2d_15\">\r\n",
       "      <path clip-path=\"url(#p3c8608cf72)\" d=\"M 48.982813 28.053905 \r\n",
       "L 244.282813 28.053905 \r\n",
       "\" style=\"fill:none;stroke:#b0b0b0;stroke-linecap:square;stroke-width:0.8;\"/>\r\n",
       "     </g>\r\n",
       "     <g id=\"line2d_16\">\r\n",
       "      <g>\r\n",
       "       <use style=\"stroke:#000000;stroke-width:0.8;\" x=\"48.982813\" xlink:href=\"#m8a0edaac46\" y=\"28.053905\"/>\r\n",
       "      </g>\r\n",
       "     </g>\r\n",
       "     <g id=\"text_9\">\r\n",
       "      <!-- 20 -->\r\n",
       "      <g transform=\"translate(29.257813 31.853124)scale(0.1 -0.1)\">\r\n",
       "       <use xlink:href=\"#DejaVuSans-50\"/>\r\n",
       "       <use x=\"63.623047\" xlink:href=\"#DejaVuSans-48\"/>\r\n",
       "      </g>\r\n",
       "     </g>\r\n",
       "    </g>\r\n",
       "    <g id=\"text_10\">\r\n",
       "     <!-- f(x) -->\r\n",
       "     <g transform=\"translate(14.798438 83.771094)rotate(-90)scale(0.1 -0.1)\">\r\n",
       "      <defs>\r\n",
       "       <path d=\"M 37.109375 75.984375 \r\n",
       "L 37.109375 68.5 \r\n",
       "L 28.515625 68.5 \r\n",
       "Q 23.6875 68.5 21.796875 66.546875 \r\n",
       "Q 19.921875 64.59375 19.921875 59.515625 \r\n",
       "L 19.921875 54.6875 \r\n",
       "L 34.71875 54.6875 \r\n",
       "L 34.71875 47.703125 \r\n",
       "L 19.921875 47.703125 \r\n",
       "L 19.921875 0 \r\n",
       "L 10.890625 0 \r\n",
       "L 10.890625 47.703125 \r\n",
       "L 2.296875 47.703125 \r\n",
       "L 2.296875 54.6875 \r\n",
       "L 10.890625 54.6875 \r\n",
       "L 10.890625 58.5 \r\n",
       "Q 10.890625 67.625 15.140625 71.796875 \r\n",
       "Q 19.390625 75.984375 28.609375 75.984375 \r\n",
       "z\r\n",
       "\" id=\"DejaVuSans-102\"/>\r\n",
       "       <path d=\"M 31 75.875 \r\n",
       "Q 24.46875 64.65625 21.28125 53.65625 \r\n",
       "Q 18.109375 42.671875 18.109375 31.390625 \r\n",
       "Q 18.109375 20.125 21.3125 9.0625 \r\n",
       "Q 24.515625 -2 31 -13.1875 \r\n",
       "L 23.1875 -13.1875 \r\n",
       "Q 15.875 -1.703125 12.234375 9.375 \r\n",
       "Q 8.59375 20.453125 8.59375 31.390625 \r\n",
       "Q 8.59375 42.28125 12.203125 53.3125 \r\n",
       "Q 15.828125 64.359375 23.1875 75.875 \r\n",
       "z\r\n",
       "\" id=\"DejaVuSans-40\"/>\r\n",
       "       <path d=\"M 8.015625 75.875 \r\n",
       "L 15.828125 75.875 \r\n",
       "Q 23.140625 64.359375 26.78125 53.3125 \r\n",
       "Q 30.421875 42.28125 30.421875 31.390625 \r\n",
       "Q 30.421875 20.453125 26.78125 9.375 \r\n",
       "Q 23.140625 -1.703125 15.828125 -13.1875 \r\n",
       "L 8.015625 -13.1875 \r\n",
       "Q 14.5 -2 17.703125 9.0625 \r\n",
       "Q 20.90625 20.125 20.90625 31.390625 \r\n",
       "Q 20.90625 42.671875 17.703125 53.65625 \r\n",
       "Q 14.5 64.65625 8.015625 75.875 \r\n",
       "z\r\n",
       "\" id=\"DejaVuSans-41\"/>\r\n",
       "      </defs>\r\n",
       "      <use xlink:href=\"#DejaVuSans-102\"/>\r\n",
       "      <use x=\"35.205078\" xlink:href=\"#DejaVuSans-40\"/>\r\n",
       "      <use x=\"74.21875\" xlink:href=\"#DejaVuSans-120\"/>\r\n",
       "      <use x=\"133.398438\" xlink:href=\"#DejaVuSans-41\"/>\r\n",
       "     </g>\r\n",
       "    </g>\r\n",
       "   </g>\r\n",
       "   <g id=\"line2d_17\">\r\n",
       "    <path clip-path=\"url(#p3c8608cf72)\" d=\"M 57.860085 136.922727 \r\n",
       "L 64.200994 118.751915 \r\n",
       "L 70.541903 112.634493 \r\n",
       "L 76.882812 109.475982 \r\n",
       "L 83.223722 107.440067 \r\n",
       "L 89.564631 105.900127 \r\n",
       "L 95.90554 104.575167 \r\n",
       "L 102.246449 103.313802 \r\n",
       "L 108.587358 102.022252 \r\n",
       "L 114.928267 100.635539 \r\n",
       "L 121.269176 99.104397 \r\n",
       "L 127.610085 97.388721 \r\n",
       "L 133.950994 95.454048 \r\n",
       "L 140.291903 93.26954 \r\n",
       "L 146.632812 90.806776 \r\n",
       "L 152.973722 88.038997 \r\n",
       "L 159.314631 84.940615 \r\n",
       "L 165.65554 81.486891 \r\n",
       "L 171.996449 77.653711 \r\n",
       "L 178.337358 73.417426 \r\n",
       "L 184.678267 68.754748 \r\n",
       "L 191.019176 63.64266 \r\n",
       "L 197.360085 58.058364 \r\n",
       "L 203.700994 51.979231 \r\n",
       "L 210.041903 45.38277 \r\n",
       "L 216.382812 38.2466 \r\n",
       "L 222.723722 30.548428 \r\n",
       "L 229.064631 22.266038 \r\n",
       "L 235.40554 13.377273 \r\n",
       "\" style=\"fill:none;stroke:#1f77b4;stroke-linecap:square;stroke-width:1.5;\"/>\r\n",
       "   </g>\r\n",
       "   <g id=\"line2d_18\">\r\n",
       "    <path clip-path=\"url(#p3c8608cf72)\" d=\"M 57.860085 113.700233 \r\n",
       "L 64.200994 112.248601 \r\n",
       "L 70.541903 110.796968 \r\n",
       "L 76.882812 109.345335 \r\n",
       "L 83.223722 107.893703 \r\n",
       "L 89.564631 106.44207 \r\n",
       "L 95.90554 104.990437 \r\n",
       "L 102.246449 103.538805 \r\n",
       "L 108.587358 102.087172 \r\n",
       "L 114.928267 100.635539 \r\n",
       "L 121.269176 99.183907 \r\n",
       "L 127.610085 97.732274 \r\n",
       "L 133.950994 96.280641 \r\n",
       "L 140.291903 94.829008 \r\n",
       "L 146.632812 93.377376 \r\n",
       "L 152.973722 91.925743 \r\n",
       "L 159.314631 90.47411 \r\n",
       "L 165.65554 89.022478 \r\n",
       "L 171.996449 87.570845 \r\n",
       "L 178.337358 86.119212 \r\n",
       "L 184.678267 84.66758 \r\n",
       "L 191.019176 83.215947 \r\n",
       "L 197.360085 81.764314 \r\n",
       "L 203.700994 80.312682 \r\n",
       "L 210.041903 78.861049 \r\n",
       "L 216.382812 77.409416 \r\n",
       "L 222.723722 75.957784 \r\n",
       "L 229.064631 74.506151 \r\n",
       "L 235.40554 73.054518 \r\n",
       "\" style=\"fill:none;stroke:#bf00bf;stroke-dasharray:5.55,2.4;stroke-dashoffset:0;stroke-width:1.5;\"/>\r\n",
       "   </g>\r\n",
       "   <g id=\"patch_3\">\r\n",
       "    <path d=\"M 48.982813 143.1 \r\n",
       "L 48.982813 7.2 \r\n",
       "\" style=\"fill:none;stroke:#000000;stroke-linecap:square;stroke-linejoin:miter;stroke-width:0.8;\"/>\r\n",
       "   </g>\r\n",
       "   <g id=\"patch_4\">\r\n",
       "    <path d=\"M 244.282813 143.1 \r\n",
       "L 244.282813 7.2 \r\n",
       "\" style=\"fill:none;stroke:#000000;stroke-linecap:square;stroke-linejoin:miter;stroke-width:0.8;\"/>\r\n",
       "   </g>\r\n",
       "   <g id=\"patch_5\">\r\n",
       "    <path d=\"M 48.982813 143.1 \r\n",
       "L 244.282813 143.1 \r\n",
       "\" style=\"fill:none;stroke:#000000;stroke-linecap:square;stroke-linejoin:miter;stroke-width:0.8;\"/>\r\n",
       "   </g>\r\n",
       "   <g id=\"patch_6\">\r\n",
       "    <path d=\"M 48.982813 7.2 \r\n",
       "L 244.282813 7.2 \r\n",
       "\" style=\"fill:none;stroke:#000000;stroke-linecap:square;stroke-linejoin:miter;stroke-width:0.8;\"/>\r\n",
       "   </g>\r\n",
       "   <g id=\"legend_1\">\r\n",
       "    <g id=\"patch_7\">\r\n",
       "     <path d=\"M 55.982813 44.55625 \r\n",
       "L 180.532813 44.55625 \r\n",
       "Q 182.532813 44.55625 182.532813 42.55625 \r\n",
       "L 182.532813 14.2 \r\n",
       "Q 182.532813 12.2 180.532813 12.2 \r\n",
       "L 55.982813 12.2 \r\n",
       "Q 53.982813 12.2 53.982813 14.2 \r\n",
       "L 53.982813 42.55625 \r\n",
       "Q 53.982813 44.55625 55.982813 44.55625 \r\n",
       "z\r\n",
       "\" style=\"fill:#ffffff;opacity:0.8;stroke:#cccccc;stroke-linejoin:miter;\"/>\r\n",
       "    </g>\r\n",
       "    <g id=\"line2d_19\">\r\n",
       "     <path d=\"M 57.982813 20.298437 \r\n",
       "L 77.982813 20.298437 \r\n",
       "\" style=\"fill:none;stroke:#1f77b4;stroke-linecap:square;stroke-width:1.5;\"/>\r\n",
       "    </g>\r\n",
       "    <g id=\"line2d_20\"/>\r\n",
       "    <g id=\"text_11\">\r\n",
       "     <!-- f(x) -->\r\n",
       "     <g transform=\"translate(85.982813 23.798437)scale(0.1 -0.1)\">\r\n",
       "      <use xlink:href=\"#DejaVuSans-102\"/>\r\n",
       "      <use x=\"35.205078\" xlink:href=\"#DejaVuSans-40\"/>\r\n",
       "      <use x=\"74.21875\" xlink:href=\"#DejaVuSans-120\"/>\r\n",
       "      <use x=\"133.398438\" xlink:href=\"#DejaVuSans-41\"/>\r\n",
       "     </g>\r\n",
       "    </g>\r\n",
       "    <g id=\"line2d_21\">\r\n",
       "     <path d=\"M 57.982813 34.976562 \r\n",
       "L 77.982813 34.976562 \r\n",
       "\" style=\"fill:none;stroke:#bf00bf;stroke-dasharray:5.55,2.4;stroke-dashoffset:0;stroke-width:1.5;\"/>\r\n",
       "    </g>\r\n",
       "    <g id=\"line2d_22\"/>\r\n",
       "    <g id=\"text_12\">\r\n",
       "     <!-- Tangent line (x=1) -->\r\n",
       "     <g transform=\"translate(85.982813 38.476562)scale(0.1 -0.1)\">\r\n",
       "      <defs>\r\n",
       "       <path d=\"M -0.296875 72.90625 \r\n",
       "L 61.375 72.90625 \r\n",
       "L 61.375 64.59375 \r\n",
       "L 35.5 64.59375 \r\n",
       "L 35.5 0 \r\n",
       "L 25.59375 0 \r\n",
       "L 25.59375 64.59375 \r\n",
       "L -0.296875 64.59375 \r\n",
       "z\r\n",
       "\" id=\"DejaVuSans-84\"/>\r\n",
       "       <path d=\"M 34.28125 27.484375 \r\n",
       "Q 23.390625 27.484375 19.1875 25 \r\n",
       "Q 14.984375 22.515625 14.984375 16.5 \r\n",
       "Q 14.984375 11.71875 18.140625 8.90625 \r\n",
       "Q 21.296875 6.109375 26.703125 6.109375 \r\n",
       "Q 34.1875 6.109375 38.703125 11.40625 \r\n",
       "Q 43.21875 16.703125 43.21875 25.484375 \r\n",
       "L 43.21875 27.484375 \r\n",
       "z\r\n",
       "M 52.203125 31.203125 \r\n",
       "L 52.203125 0 \r\n",
       "L 43.21875 0 \r\n",
       "L 43.21875 8.296875 \r\n",
       "Q 40.140625 3.328125 35.546875 0.953125 \r\n",
       "Q 30.953125 -1.421875 24.3125 -1.421875 \r\n",
       "Q 15.921875 -1.421875 10.953125 3.296875 \r\n",
       "Q 6 8.015625 6 15.921875 \r\n",
       "Q 6 25.140625 12.171875 29.828125 \r\n",
       "Q 18.359375 34.515625 30.609375 34.515625 \r\n",
       "L 43.21875 34.515625 \r\n",
       "L 43.21875 35.40625 \r\n",
       "Q 43.21875 41.609375 39.140625 45 \r\n",
       "Q 35.0625 48.390625 27.6875 48.390625 \r\n",
       "Q 23 48.390625 18.546875 47.265625 \r\n",
       "Q 14.109375 46.140625 10.015625 43.890625 \r\n",
       "L 10.015625 52.203125 \r\n",
       "Q 14.9375 54.109375 19.578125 55.046875 \r\n",
       "Q 24.21875 56 28.609375 56 \r\n",
       "Q 40.484375 56 46.34375 49.84375 \r\n",
       "Q 52.203125 43.703125 52.203125 31.203125 \r\n",
       "z\r\n",
       "\" id=\"DejaVuSans-97\"/>\r\n",
       "       <path d=\"M 54.890625 33.015625 \r\n",
       "L 54.890625 0 \r\n",
       "L 45.90625 0 \r\n",
       "L 45.90625 32.71875 \r\n",
       "Q 45.90625 40.484375 42.875 44.328125 \r\n",
       "Q 39.84375 48.1875 33.796875 48.1875 \r\n",
       "Q 26.515625 48.1875 22.3125 43.546875 \r\n",
       "Q 18.109375 38.921875 18.109375 30.90625 \r\n",
       "L 18.109375 0 \r\n",
       "L 9.078125 0 \r\n",
       "L 9.078125 54.6875 \r\n",
       "L 18.109375 54.6875 \r\n",
       "L 18.109375 46.1875 \r\n",
       "Q 21.34375 51.125 25.703125 53.5625 \r\n",
       "Q 30.078125 56 35.796875 56 \r\n",
       "Q 45.21875 56 50.046875 50.171875 \r\n",
       "Q 54.890625 44.34375 54.890625 33.015625 \r\n",
       "z\r\n",
       "\" id=\"DejaVuSans-110\"/>\r\n",
       "       <path d=\"M 45.40625 27.984375 \r\n",
       "Q 45.40625 37.75 41.375 43.109375 \r\n",
       "Q 37.359375 48.484375 30.078125 48.484375 \r\n",
       "Q 22.859375 48.484375 18.828125 43.109375 \r\n",
       "Q 14.796875 37.75 14.796875 27.984375 \r\n",
       "Q 14.796875 18.265625 18.828125 12.890625 \r\n",
       "Q 22.859375 7.515625 30.078125 7.515625 \r\n",
       "Q 37.359375 7.515625 41.375 12.890625 \r\n",
       "Q 45.40625 18.265625 45.40625 27.984375 \r\n",
       "z\r\n",
       "M 54.390625 6.78125 \r\n",
       "Q 54.390625 -7.171875 48.1875 -13.984375 \r\n",
       "Q 42 -20.796875 29.203125 -20.796875 \r\n",
       "Q 24.46875 -20.796875 20.265625 -20.09375 \r\n",
       "Q 16.0625 -19.390625 12.109375 -17.921875 \r\n",
       "L 12.109375 -9.1875 \r\n",
       "Q 16.0625 -11.328125 19.921875 -12.34375 \r\n",
       "Q 23.78125 -13.375 27.78125 -13.375 \r\n",
       "Q 36.625 -13.375 41.015625 -8.765625 \r\n",
       "Q 45.40625 -4.15625 45.40625 5.171875 \r\n",
       "L 45.40625 9.625 \r\n",
       "Q 42.625 4.78125 38.28125 2.390625 \r\n",
       "Q 33.9375 0 27.875 0 \r\n",
       "Q 17.828125 0 11.671875 7.65625 \r\n",
       "Q 5.515625 15.328125 5.515625 27.984375 \r\n",
       "Q 5.515625 40.671875 11.671875 48.328125 \r\n",
       "Q 17.828125 56 27.875 56 \r\n",
       "Q 33.9375 56 38.28125 53.609375 \r\n",
       "Q 42.625 51.21875 45.40625 46.390625 \r\n",
       "L 45.40625 54.6875 \r\n",
       "L 54.390625 54.6875 \r\n",
       "z\r\n",
       "\" id=\"DejaVuSans-103\"/>\r\n",
       "       <path d=\"M 56.203125 29.59375 \r\n",
       "L 56.203125 25.203125 \r\n",
       "L 14.890625 25.203125 \r\n",
       "Q 15.484375 15.921875 20.484375 11.0625 \r\n",
       "Q 25.484375 6.203125 34.421875 6.203125 \r\n",
       "Q 39.59375 6.203125 44.453125 7.46875 \r\n",
       "Q 49.3125 8.734375 54.109375 11.28125 \r\n",
       "L 54.109375 2.78125 \r\n",
       "Q 49.265625 0.734375 44.1875 -0.34375 \r\n",
       "Q 39.109375 -1.421875 33.890625 -1.421875 \r\n",
       "Q 20.796875 -1.421875 13.15625 6.1875 \r\n",
       "Q 5.515625 13.8125 5.515625 26.8125 \r\n",
       "Q 5.515625 40.234375 12.765625 48.109375 \r\n",
       "Q 20.015625 56 32.328125 56 \r\n",
       "Q 43.359375 56 49.78125 48.890625 \r\n",
       "Q 56.203125 41.796875 56.203125 29.59375 \r\n",
       "z\r\n",
       "M 47.21875 32.234375 \r\n",
       "Q 47.125 39.59375 43.09375 43.984375 \r\n",
       "Q 39.0625 48.390625 32.421875 48.390625 \r\n",
       "Q 24.90625 48.390625 20.390625 44.140625 \r\n",
       "Q 15.875 39.890625 15.1875 32.171875 \r\n",
       "z\r\n",
       "\" id=\"DejaVuSans-101\"/>\r\n",
       "       <path d=\"M 18.3125 70.21875 \r\n",
       "L 18.3125 54.6875 \r\n",
       "L 36.8125 54.6875 \r\n",
       "L 36.8125 47.703125 \r\n",
       "L 18.3125 47.703125 \r\n",
       "L 18.3125 18.015625 \r\n",
       "Q 18.3125 11.328125 20.140625 9.421875 \r\n",
       "Q 21.96875 7.515625 27.59375 7.515625 \r\n",
       "L 36.8125 7.515625 \r\n",
       "L 36.8125 0 \r\n",
       "L 27.59375 0 \r\n",
       "Q 17.1875 0 13.234375 3.875 \r\n",
       "Q 9.28125 7.765625 9.28125 18.015625 \r\n",
       "L 9.28125 47.703125 \r\n",
       "L 2.6875 47.703125 \r\n",
       "L 2.6875 54.6875 \r\n",
       "L 9.28125 54.6875 \r\n",
       "L 9.28125 70.21875 \r\n",
       "z\r\n",
       "\" id=\"DejaVuSans-116\"/>\r\n",
       "       <path id=\"DejaVuSans-32\"/>\r\n",
       "       <path d=\"M 9.421875 75.984375 \r\n",
       "L 18.40625 75.984375 \r\n",
       "L 18.40625 0 \r\n",
       "L 9.421875 0 \r\n",
       "z\r\n",
       "\" id=\"DejaVuSans-108\"/>\r\n",
       "       <path d=\"M 9.421875 54.6875 \r\n",
       "L 18.40625 54.6875 \r\n",
       "L 18.40625 0 \r\n",
       "L 9.421875 0 \r\n",
       "z\r\n",
       "M 9.421875 75.984375 \r\n",
       "L 18.40625 75.984375 \r\n",
       "L 18.40625 64.59375 \r\n",
       "L 9.421875 64.59375 \r\n",
       "z\r\n",
       "\" id=\"DejaVuSans-105\"/>\r\n",
       "       <path d=\"M 10.59375 45.40625 \r\n",
       "L 73.1875 45.40625 \r\n",
       "L 73.1875 37.203125 \r\n",
       "L 10.59375 37.203125 \r\n",
       "z\r\n",
       "M 10.59375 25.484375 \r\n",
       "L 73.1875 25.484375 \r\n",
       "L 73.1875 17.1875 \r\n",
       "L 10.59375 17.1875 \r\n",
       "z\r\n",
       "\" id=\"DejaVuSans-61\"/>\r\n",
       "      </defs>\r\n",
       "      <use xlink:href=\"#DejaVuSans-84\"/>\r\n",
       "      <use x=\"44.583984\" xlink:href=\"#DejaVuSans-97\"/>\r\n",
       "      <use x=\"105.863281\" xlink:href=\"#DejaVuSans-110\"/>\r\n",
       "      <use x=\"169.242188\" xlink:href=\"#DejaVuSans-103\"/>\r\n",
       "      <use x=\"232.71875\" xlink:href=\"#DejaVuSans-101\"/>\r\n",
       "      <use x=\"294.242188\" xlink:href=\"#DejaVuSans-110\"/>\r\n",
       "      <use x=\"357.621094\" xlink:href=\"#DejaVuSans-116\"/>\r\n",
       "      <use x=\"396.830078\" xlink:href=\"#DejaVuSans-32\"/>\r\n",
       "      <use x=\"428.617188\" xlink:href=\"#DejaVuSans-108\"/>\r\n",
       "      <use x=\"456.400391\" xlink:href=\"#DejaVuSans-105\"/>\r\n",
       "      <use x=\"484.183594\" xlink:href=\"#DejaVuSans-110\"/>\r\n",
       "      <use x=\"547.5625\" xlink:href=\"#DejaVuSans-101\"/>\r\n",
       "      <use x=\"609.085938\" xlink:href=\"#DejaVuSans-32\"/>\r\n",
       "      <use x=\"640.873047\" xlink:href=\"#DejaVuSans-40\"/>\r\n",
       "      <use x=\"679.886719\" xlink:href=\"#DejaVuSans-120\"/>\r\n",
       "      <use x=\"739.066406\" xlink:href=\"#DejaVuSans-61\"/>\r\n",
       "      <use x=\"822.855469\" xlink:href=\"#DejaVuSans-49\"/>\r\n",
       "      <use x=\"886.478516\" xlink:href=\"#DejaVuSans-41\"/>\r\n",
       "     </g>\r\n",
       "    </g>\r\n",
       "   </g>\r\n",
       "  </g>\r\n",
       " </g>\r\n",
       " <defs>\r\n",
       "  <clipPath id=\"p3c8608cf72\">\r\n",
       "   <rect height=\"135.9\" width=\"195.3\" x=\"48.982813\" y=\"7.2\"/>\r\n",
       "  </clipPath>\r\n",
       " </defs>\r\n",
       "</svg>\r\n"
      ],
      "text/plain": [
       "<Figure size 252x180 with 1 Axes>"
      ]
     },
     "metadata": {
      "needs_background": "light"
     },
     "output_type": "display_data"
    }
   ],
   "source": [
    "x = np.arange(0.1, 3, 0.1)\n",
    "def f(x):\n",
    "    return x ** 3 - 1 / x\n",
    "d2l.plot(x, [f(x), 4 * x - 4], 'x', 'f(x)', legend=['f(x)', 'Tangent line (x=1)'])"
   ]
  },
  {
   "cell_type": "code",
   "execution_count": null,
   "id": "63872686",
   "metadata": {},
   "outputs": [],
   "source": []
  }
 ],
 "metadata": {
  "kernelspec": {
   "display_name": "Python 3 (ipykernel)",
   "language": "python",
   "name": "python3"
  },
  "language_info": {
   "codemirror_mode": {
    "name": "ipython",
    "version": 3
   },
   "file_extension": ".py",
   "mimetype": "text/x-python",
   "name": "python",
   "nbconvert_exporter": "python",
   "pygments_lexer": "ipython3",
   "version": "3.8.0"
  },
  "toc-showcode": false
 },
 "nbformat": 4,
 "nbformat_minor": 5
}
