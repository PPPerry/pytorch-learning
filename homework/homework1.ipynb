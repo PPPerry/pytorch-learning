{
 "cells": [
  {
   "cell_type": "markdown",
   "metadata": {
    "id": "46s4QkiSYqMq"
   },
   "source": [
    "# Homework 1 - Berkeley STAT 157\n",
    "\n",
    "Handout 1/22/2017, due 1/29/2017 by 4pm in Git by committing to your repository. Please ensure that you add the TA Git account to your repository.\n",
    "\n",
    "1. Write all code in the notebook.\n",
    "1. Write all text in the notebook. You can use MathJax to insert math or generic Markdown to insert figures (it's unlikely you'll need the latter). \n",
    "1. **Execute** the notebook and **save** the results.\n",
    "1. To be safe, print the notebook as PDF and add it to the repository, too. Your repository should contain two files: ``homework1.ipynb`` and ``homework1.pdf``. \n",
    "\n",
    "The TA will return the corrected and annotated homework back to you via Git (please give `rythei` access to your repository)."
   ]
  },
  {
   "cell_type": "code",
   "execution_count": 3,
   "metadata": {
    "ExecuteTime": {
     "end_time": "2019-01-22T19:57:47.188990Z",
     "start_time": "2019-01-22T19:57:46.107420Z"
    },
    "executionInfo": {
     "elapsed": 498,
     "status": "ok",
     "timestamp": 1639644385608,
     "user": {
      "displayName": "Perry Sun",
      "photoUrl": "https://lh3.googleusercontent.com/a-/AOh14GiijKEXi4ZQmPa7wIAtQ7O2h3xpiqih4ptoZoRb=s64",
      "userId": "01474125674820208510"
     },
     "user_tz": -480
    },
    "id": "F8Y7G46JYqMu"
   },
   "outputs": [],
   "source": [
    "import torch"
   ]
  },
  {
   "cell_type": "markdown",
   "metadata": {
    "id": "TB1eku7oYqMw"
   },
   "source": [
    "## 1. Speedtest for vectorization\n",
    "\n",
    "Your goal is to measure the speed of linear algebra operations for different levels of vectorization. You need to use `wait_to_read()` on the output to ensure that the result is computed completely, since NDArray uses asynchronous computation. Please see http://beta.mxnet.io/api/ndarray/_autogen/mxnet.ndarray.NDArray.wait_to_read.html for details. \n",
    "\n",
    "1. Construct two matrices $A$ and $B$ with Gaussian random entries of size $4096 \\times 4096$. \n",
    "1. Compute $C = A B$ using matrix-matrix operations and report the time. \n",
    "1. Compute $C = A B$, treating $A$ as a matrix but computing the result for each column of $B$ one at a time. Report the time.\n",
    "1. Compute $C = A B$, treating $A$ and $B$ as collections of vectors. Report the time.\n",
    "1. Bonus question - what changes if you execute this on a GPU?"
   ]
  },
  {
   "cell_type": "code",
   "execution_count": null,
   "metadata": {
    "id": "-qEygPVUYqMx",
    "outputId": "cafd086d-266f-400f-e603-d574399d2579"
   },
   "outputs": [
    {
     "data": {
      "text/plain": [
       "(tensor([[ 1.1009,  1.6132,  0.4601,  ..., -1.1506, -0.4024,  0.5553],\n",
       "         [-0.4577, -1.0078, -1.1603,  ..., -0.6503,  1.5496,  0.1571],\n",
       "         [ 0.0842,  1.2824, -0.1798,  ...,  1.0897, -1.0470,  0.1097],\n",
       "         ...,\n",
       "         [ 0.5834, -0.4746, -0.4125,  ..., -1.2188,  0.1011,  0.3760],\n",
       "         [-2.0657,  1.5787, -1.8359,  ...,  0.5942,  0.7440,  0.1324],\n",
       "         [ 0.1157,  0.4007, -1.0944,  ..., -0.4286, -0.3150, -1.5131]]),\n",
       " tensor([[-0.7269, -0.0560, -1.8581,  ..., -0.1133, -1.1299,  0.1256],\n",
       "         [-0.0855, -0.3944,  0.4496,  ..., -0.4466, -0.8667, -2.1378],\n",
       "         [ 0.8677, -0.0500,  0.0177,  ..., -0.6424, -0.9377, -1.6000],\n",
       "         ...,\n",
       "         [-0.8026, -0.3866,  0.0642,  ..., -0.8097,  0.7335, -1.0225],\n",
       "         [-0.7219,  0.1388, -2.2338,  ...,  0.0934,  0.9332,  1.1136],\n",
       "         [ 0.0671, -1.8092,  0.5348,  ..., -1.2397, -0.2721,  0.6525]]))"
      ]
     },
     "execution_count": 32,
     "metadata": {},
     "output_type": "execute_result"
    }
   ],
   "source": [
    "m = torch.distributions.normal.Normal(torch.zeros((4096, 4096)), torch.tensor([1.]))\n",
    "A = m.sample()\n",
    "B = m.sample()\n",
    "A, B"
   ]
  },
  {
   "cell_type": "code",
   "execution_count": 43,
   "metadata": {
    "id": "8hO3DMjDYqMy"
   },
   "outputs": [],
   "source": [
    "from time import time"
   ]
  },
  {
   "cell_type": "code",
   "execution_count": null,
   "metadata": {
    "id": "X1lpu80sYqMy",
    "outputId": "6c382e37-1e06-44e4-ac78-91949e1303b7"
   },
   "outputs": [
    {
     "name": "stdout",
     "output_type": "stream",
     "text": [
      "time for 1.2:  0.2332909107208252\n"
     ]
    }
   ],
   "source": [
    "begin = time()\n",
    "C = torch.mm(A, B)\n",
    "print('time for 1.2: ', (time() - begin))"
   ]
  },
  {
   "cell_type": "code",
   "execution_count": null,
   "metadata": {
    "id": "eTp1CcImYqMz",
    "outputId": "2e34c6f9-4e16-42af-b4f4-fbc8ab9397f1"
   },
   "outputs": [
    {
     "name": "stdout",
     "output_type": "stream",
     "text": [
      "torch.Size([4096, 4096])\n",
      "time for 1.3:  27.706761121749878\n"
     ]
    }
   ],
   "source": [
    "begin = time()\n",
    "C = torch.mv(A, B[:, 0]).reshape(4096, 1)\n",
    "for i in range(1, 4096):\n",
    "    C = torch.cat((C, torch.mv(A, B[:, i]).reshape(4096, 1)), dim=1)\n",
    "print(C.shape)\n",
    "print('time for 1.3: ', (time() - begin))"
   ]
  },
  {
   "cell_type": "code",
   "execution_count": null,
   "metadata": {
    "id": "vW_GJR1iYqM1",
    "outputId": "ca05547f-fbbb-43fc-efd4-ae84ecc45fed"
   },
   "outputs": [
    {
     "name": "stdout",
     "output_type": "stream",
     "text": [
      "time for 1.4:  326.3792338371277\n"
     ]
    }
   ],
   "source": [
    "begin = time()\n",
    "C = torch.empty((4096, 4096))\n",
    "for i in range(4096):\n",
    "    for j in range(4096):\n",
    "        C[i, j] = torch.dot(A[i, :], B[:, j])\n",
    "print('time for 1.4: ', time() - begin)"
   ]
  },
  {
   "cell_type": "markdown",
   "metadata": {
    "id": "P0brgmcYYqM2",
    "tags": []
   },
   "source": [
    "## 2. Semidefinite Matrices\n",
    "\n",
    "Assume that $A \\in \\mathbb{R}^{m \\times n}$ is an arbitrary matrix and that $D \\in \\mathbb{R}^{n \\times n}$ is a diagonal matrix with nonnegative entries. \n",
    "\n",
    "1. Prove that $B = A D A^\\top$ is a positive semidefinite matrix. \n",
    "1. When would it be useful to work with $B$ and when is it better to use $A$ and $D$?"
   ]
  },
  {
   "cell_type": "markdown",
   "metadata": {
    "id": "xMm4x82FYqM2"
   },
   "source": [
    "> It is useful to work with $B$ since it is a square, positiive semidefinite matrix. It seems to hold all the information of $B$ but transform an arbitrary matrix into one with nice properties. When we do SVD we look at $AA^T$, so now we can specify which entries to leave out by setting some of $D$'s diagonal values to zero or which entries to modify by setting $D$'s diagonal values to not $1$.\n",
    "\n",
    "> If say $A$ is a data matrix, it is better to work with it directly when training a machine learning algorithm."
   ]
  },
  {
   "cell_type": "markdown",
   "metadata": {
    "id": "SuJ5CsqMYqM3"
   },
   "source": [
    "## 3. MXNet on GPUs\n",
    "\n",
    "1. Install GPU drivers (if needed)\n",
    "1. Install MXNet on a GPU instance\n",
    "1. Display `!nvidia-smi`\n",
    "1. Create a $2 \\times 2$ matrix on the GPU and print it. See http://d2l.ai/chapter_deep-learning-computation/use-gpu.html for details."
   ]
  },
  {
   "cell_type": "code",
   "execution_count": 3,
   "metadata": {
    "colab": {
     "base_uri": "https://localhost:8080/"
    },
    "executionInfo": {
     "elapsed": 529,
     "status": "ok",
     "timestamp": 1639643850605,
     "user": {
      "displayName": "Perry Sun",
      "photoUrl": "https://lh3.googleusercontent.com/a-/AOh14GiijKEXi4ZQmPa7wIAtQ7O2h3xpiqih4ptoZoRb=s64",
      "userId": "01474125674820208510"
     },
     "user_tz": -480
    },
    "id": "HlQXQIY9YqM3",
    "outputId": "142e01a5-67c3-40e6-d621-f877fa1fc350"
   },
   "outputs": [
    {
     "name": "stdout",
     "output_type": "stream",
     "text": [
      "Thu Dec 16 08:37:30 2021       \n",
      "+-----------------------------------------------------------------------------+\n",
      "| NVIDIA-SMI 495.44       Driver Version: 460.32.03    CUDA Version: 11.2     |\n",
      "|-------------------------------+----------------------+----------------------+\n",
      "| GPU  Name        Persistence-M| Bus-Id        Disp.A | Volatile Uncorr. ECC |\n",
      "| Fan  Temp  Perf  Pwr:Usage/Cap|         Memory-Usage | GPU-Util  Compute M. |\n",
      "|                               |                      |               MIG M. |\n",
      "|===============================+======================+======================|\n",
      "|   0  Tesla K80           Off  | 00000000:00:04.0 Off |                    0 |\n",
      "| N/A   67C    P8    35W / 149W |      0MiB / 11441MiB |      0%      Default |\n",
      "|                               |                      |                  N/A |\n",
      "+-------------------------------+----------------------+----------------------+\n",
      "                                                                               \n",
      "+-----------------------------------------------------------------------------+\n",
      "| Processes:                                                                  |\n",
      "|  GPU   GI   CI        PID   Type   Process name                  GPU Memory |\n",
      "|        ID   ID                                                   Usage      |\n",
      "|=============================================================================|\n",
      "|  No running processes found                                                 |\n",
      "+-----------------------------------------------------------------------------+\n"
     ]
    }
   ],
   "source": [
    "!nvidia-smi"
   ]
  },
  {
   "cell_type": "code",
   "execution_count": 9,
   "metadata": {
    "colab": {
     "base_uri": "https://localhost:8080/"
    },
    "executionInfo": {
     "elapsed": 629,
     "status": "ok",
     "timestamp": 1639644549139,
     "user": {
      "displayName": "Perry Sun",
      "photoUrl": "https://lh3.googleusercontent.com/a-/AOh14GiijKEXi4ZQmPa7wIAtQ7O2h3xpiqih4ptoZoRb=s64",
      "userId": "01474125674820208510"
     },
     "user_tz": -480
    },
    "id": "j9_wmjwBZs2v",
    "outputId": "0442dc53-f499-4d3d-b0a0-a8b92ace9c73"
   },
   "outputs": [
    {
     "data": {
      "text/plain": [
       "tensor([[0.6671, 0.6956],\n",
       "        [0.7073, 0.3004]], device='cuda:0')"
      ]
     },
     "execution_count": 9,
     "metadata": {},
     "output_type": "execute_result"
    }
   ],
   "source": [
    "X = torch.rand([2, 2], device=torch.device('cuda'))\n",
    "X"
   ]
  },
  {
   "cell_type": "markdown",
   "metadata": {
    "id": "y0b3tNnsYqM4"
   },
   "source": [
    "## 4. NDArray and NumPy \n",
    "\n",
    "Your goal is to measure the speed penalty between MXNet Gluon and Python when converting data between both. We are going to do this as follows:\n",
    "\n",
    "1. Create two Gaussian random matrices $A, B$ of size $4096 \\times 4096$ in NDArray. \n",
    "1. Compute a vector $\\mathbf{c} \\in \\mathbb{R}^{4096}$ where $c_i = \\|A B_{i\\cdot}\\|^2$ where $\\mathbf{c}$ is a **NumPy** vector.\n",
    "\n",
    "To see the difference in speed due to Python perform the following two experiments and measure the time:\n",
    "\n",
    "1. Compute $\\|A B_{i\\cdot}\\|^2$ one at a time and assign its outcome to $\\mathbf{c}_i$ directly.\n",
    "1. Use an intermediate storage vector $\\mathbf{d}$ in NDArray for assignments and copy to NumPy at the end."
   ]
  },
  {
   "cell_type": "code",
   "execution_count": 39,
   "metadata": {
    "id": "z6mo7DnKYqM4"
   },
   "outputs": [],
   "source": [
    "import numpy as np"
   ]
  },
  {
   "cell_type": "code",
   "execution_count": 41,
   "metadata": {},
   "outputs": [],
   "source": [
    "m = torch.distributions.normal.Normal(torch.zeros((4096, 4096)), torch.tensor([1.]))\n",
    "A = m.sample()\n",
    "B = m.sample()"
   ]
  },
  {
   "cell_type": "code",
   "execution_count": 48,
   "metadata": {},
   "outputs": [
    {
     "name": "stdout",
     "output_type": "stream",
     "text": [
      "time for 4.1:  8.573265790939331\n"
     ]
    }
   ],
   "source": [
    "begin = time()\n",
    "c = np.zeros(4096)\n",
    "for i in range(4096):\n",
    "    c[i] = torch.mv(A, B[:, i]).norm() ** 2\n",
    "print('time for 4.1: ', time() - begin)"
   ]
  },
  {
   "cell_type": "code",
   "execution_count": 51,
   "metadata": {},
   "outputs": [
    {
     "name": "stdout",
     "output_type": "stream",
     "text": [
      "time for 4.2:  8.88628602027893\n"
     ]
    }
   ],
   "source": [
    "begin = time()\n",
    "d = torch.zeros(4096, dtype=torch.float32)\n",
    "for i in range(4096):\n",
    "    d[i] = (torch.mv(A, B[:, i]).norm() ** 2)\n",
    "c = d.numpy()\n",
    "print('time for 4.2: ', time()- begin)"
   ]
  },
  {
   "cell_type": "markdown",
   "metadata": {
    "id": "nfh_UApkYqM4"
   },
   "source": [
    "## 5. Memory efficient computation\n",
    "\n",
    "We want to compute $C \\leftarrow A \\cdot B + C$, where $A, B$ and $C$ are all matrices. Implement this in the most memory efficient manner. Pay attention to the following two things:\n",
    "\n",
    "1. Do not allocate new memory for the new value of $C$.\n",
    "1. Do not allocate new memory for intermediate results if possible."
   ]
  },
  {
   "cell_type": "code",
   "execution_count": 52,
   "metadata": {
    "id": "0j7iuXjyYqM5"
   },
   "outputs": [],
   "source": [
    "C = torch.empty(A.shape)\n",
    "C += torch.mm(A, B)"
   ]
  },
  {
   "cell_type": "markdown",
   "metadata": {
    "id": "WwQRW6ICYqM5"
   },
   "source": [
    "## 6. Broadcast Operations\n",
    "\n",
    "In order to perform polynomial fitting we want to compute a design matrix $A$ with \n",
    "\n",
    "$$A_{ij} = x_i^j$$\n",
    "\n",
    "Our goal is to implement this **without a single for loop** entirely using vectorization and broadcast. Here $1 \\leq j \\leq 20$ and $x = \\{-10, -9.9, \\ldots 10\\}$. Implement code that generates such a matrix."
   ]
  },
  {
   "cell_type": "code",
   "execution_count": 60,
   "metadata": {
    "id": "Kb5hlo7XYqM5"
   },
   "outputs": [
    {
     "data": {
      "text/plain": [
       "tensor([[-1.0000e+01,  1.0000e+02, -1.0000e+03,  ...,  1.0000e+18,\n",
       "         -1.0000e+19,  1.0000e+20],\n",
       "        [-9.9000e+00,  9.8010e+01, -9.7030e+02,  ...,  8.3451e+17,\n",
       "         -8.2617e+18,  8.1791e+19],\n",
       "        [-9.8000e+00,  9.6040e+01, -9.4119e+02,  ...,  6.9514e+17,\n",
       "         -6.8123e+18,  6.6761e+19],\n",
       "        ...,\n",
       "        [ 9.7000e+00,  9.4090e+01,  9.1267e+02,  ...,  5.7795e+17,\n",
       "          5.6061e+18,  5.4379e+19],\n",
       "        [ 9.8000e+00,  9.6040e+01,  9.4119e+02,  ...,  6.9514e+17,\n",
       "          6.8123e+18,  6.6761e+19],\n",
       "        [ 9.9000e+00,  9.8010e+01,  9.7030e+02,  ...,  8.3451e+17,\n",
       "          8.2617e+18,  8.1791e+19]])"
      ]
     },
     "execution_count": 60,
     "metadata": {},
     "output_type": "execute_result"
    }
   ],
   "source": [
    "x = torch.arange(-10, 10, 0.1).reshape((200, 1))\n",
    "A = x ** torch.arange(1, 21).reshape((1, 20))\n",
    "A"
   ]
  }
 ],
 "metadata": {
  "accelerator": "GPU",
  "celltoolbar": "Slideshow",
  "colab": {
   "collapsed_sections": [],
   "name": "homework1.ipynb",
   "provenance": []
  },
  "kernelspec": {
   "display_name": "Python 3 (ipykernel)",
   "language": "python",
   "name": "python3"
  },
  "language_info": {
   "codemirror_mode": {
    "name": "ipython",
    "version": 3
   },
   "file_extension": ".py",
   "mimetype": "text/x-python",
   "name": "python",
   "nbconvert_exporter": "python",
   "pygments_lexer": "ipython3",
   "version": "3.8.12"
  }
 },
 "nbformat": 4,
 "nbformat_minor": 4
}
